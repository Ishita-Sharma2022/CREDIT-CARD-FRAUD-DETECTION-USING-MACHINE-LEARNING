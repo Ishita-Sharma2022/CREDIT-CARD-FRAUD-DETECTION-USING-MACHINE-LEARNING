{
 "cells": [
  {
   "cell_type": "markdown",
   "metadata": {},
   "source": [
    "# Find and Remove Outliers in Credit Card Fraud Detection Dataset\n",
    "\n",
    "Please download the data from https://www.kaggle.com/dalpozz/creditcardfraud/data\n",
    "\n",
    "**Info about data: it is a CSV file, contains 31 features, the last feature is used to classify the transaction whether it is a fraud or not**\n",
    "\n",
    "**Information about data set**\n",
    "\n",
    "The datasets contains transactions made by credit cards in September 2013 by european cardholders. This dataset presents transactions that occurred in two days, where we have 492 frauds out of 284,807 transactions. The dataset is highly unbalanced, the positive class (frauds) account for 0.172% of all transactions.\n",
    "\n",
    "It contains only numerical input variables which are the result of a PCA transformation. Unfortunately, due to confidentiality issues, we cannot provide the original features and more background information about the data. Features V1, V2, ... V28 are the principal components obtained with PCA, the only features which have not been transformed with PCA are 'Time' and 'Amount'. Feature 'Time' contains the seconds elapsed between each transaction and the first transaction in the dataset. The feature 'Amount' is the transaction Amount, this feature can be used for example-dependant cost-senstive learning. **Feature 'Class' is the response variable and it takes value 1 in case of fraud and 0 otherwise.**\n",
    "\n",
    "Given the class imbalance ratio, we recommend measuring the accuracy using the Area Under the Precision-Recall Curve (AUPRC). Confusion matrix accuracy is not meaningful for unbalanced classification.\n",
    "\n",
    "The dataset has been collected and analysed during a research collaboration of Worldline and the Machine Learning Group (http://mlg.ulb.ac.be) of ULB (Université Libre de Bruxelles) on big data mining and fraud detection."
   ]
  },
  {
   "cell_type": "code",
   "execution_count": 1,
   "metadata": {},
   "outputs": [],
   "source": [
    "import pandas as pd\n",
    "import numpy as np\n",
    "import seaborn as sns\n",
    "import matplotlib.pyplot as plt\n",
    "\n",
    "from sklearn.neighbors import LocalOutlierFactor"
   ]
  },
  {
   "cell_type": "code",
   "execution_count": 2,
   "metadata": {},
   "outputs": [],
   "source": [
    "data = pd.read_csv(\"creditcard.csv\")"
   ]
  },
  {
   "cell_type": "code",
   "execution_count": 3,
   "metadata": {},
   "outputs": [
    {
     "data": {
      "text/plain": [
       "(284807, 31)"
      ]
     },
     "execution_count": 3,
     "metadata": {},
     "output_type": "execute_result"
    }
   ],
   "source": [
    "data.shape"
   ]
  },
  {
   "cell_type": "code",
   "execution_count": 4,
   "metadata": {},
   "outputs": [
    {
     "data": {
      "text/html": [
       "<div>\n",
       "<style scoped>\n",
       "    .dataframe tbody tr th:only-of-type {\n",
       "        vertical-align: middle;\n",
       "    }\n",
       "\n",
       "    .dataframe tbody tr th {\n",
       "        vertical-align: top;\n",
       "    }\n",
       "\n",
       "    .dataframe thead th {\n",
       "        text-align: right;\n",
       "    }\n",
       "</style>\n",
       "<table border=\"1\" class=\"dataframe\">\n",
       "  <thead>\n",
       "    <tr style=\"text-align: right;\">\n",
       "      <th></th>\n",
       "      <th>Time</th>\n",
       "      <th>V1</th>\n",
       "      <th>V2</th>\n",
       "      <th>V3</th>\n",
       "      <th>V4</th>\n",
       "      <th>V5</th>\n",
       "      <th>V6</th>\n",
       "      <th>V7</th>\n",
       "      <th>V8</th>\n",
       "      <th>V9</th>\n",
       "      <th>...</th>\n",
       "      <th>V21</th>\n",
       "      <th>V22</th>\n",
       "      <th>V23</th>\n",
       "      <th>V24</th>\n",
       "      <th>V25</th>\n",
       "      <th>V26</th>\n",
       "      <th>V27</th>\n",
       "      <th>V28</th>\n",
       "      <th>Amount</th>\n",
       "      <th>Class</th>\n",
       "    </tr>\n",
       "  </thead>\n",
       "  <tbody>\n",
       "    <tr>\n",
       "      <th>0</th>\n",
       "      <td>0.0</td>\n",
       "      <td>-1.359807</td>\n",
       "      <td>-0.072781</td>\n",
       "      <td>2.536347</td>\n",
       "      <td>1.378155</td>\n",
       "      <td>-0.338321</td>\n",
       "      <td>0.462388</td>\n",
       "      <td>0.239599</td>\n",
       "      <td>0.098698</td>\n",
       "      <td>0.363787</td>\n",
       "      <td>...</td>\n",
       "      <td>-0.018307</td>\n",
       "      <td>0.277838</td>\n",
       "      <td>-0.110474</td>\n",
       "      <td>0.066928</td>\n",
       "      <td>0.128539</td>\n",
       "      <td>-0.189115</td>\n",
       "      <td>0.133558</td>\n",
       "      <td>-0.021053</td>\n",
       "      <td>149.62</td>\n",
       "      <td>0</td>\n",
       "    </tr>\n",
       "    <tr>\n",
       "      <th>1</th>\n",
       "      <td>0.0</td>\n",
       "      <td>1.191857</td>\n",
       "      <td>0.266151</td>\n",
       "      <td>0.166480</td>\n",
       "      <td>0.448154</td>\n",
       "      <td>0.060018</td>\n",
       "      <td>-0.082361</td>\n",
       "      <td>-0.078803</td>\n",
       "      <td>0.085102</td>\n",
       "      <td>-0.255425</td>\n",
       "      <td>...</td>\n",
       "      <td>-0.225775</td>\n",
       "      <td>-0.638672</td>\n",
       "      <td>0.101288</td>\n",
       "      <td>-0.339846</td>\n",
       "      <td>0.167170</td>\n",
       "      <td>0.125895</td>\n",
       "      <td>-0.008983</td>\n",
       "      <td>0.014724</td>\n",
       "      <td>2.69</td>\n",
       "      <td>0</td>\n",
       "    </tr>\n",
       "    <tr>\n",
       "      <th>2</th>\n",
       "      <td>1.0</td>\n",
       "      <td>-1.358354</td>\n",
       "      <td>-1.340163</td>\n",
       "      <td>1.773209</td>\n",
       "      <td>0.379780</td>\n",
       "      <td>-0.503198</td>\n",
       "      <td>1.800499</td>\n",
       "      <td>0.791461</td>\n",
       "      <td>0.247676</td>\n",
       "      <td>-1.514654</td>\n",
       "      <td>...</td>\n",
       "      <td>0.247998</td>\n",
       "      <td>0.771679</td>\n",
       "      <td>0.909412</td>\n",
       "      <td>-0.689281</td>\n",
       "      <td>-0.327642</td>\n",
       "      <td>-0.139097</td>\n",
       "      <td>-0.055353</td>\n",
       "      <td>-0.059752</td>\n",
       "      <td>378.66</td>\n",
       "      <td>0</td>\n",
       "    </tr>\n",
       "    <tr>\n",
       "      <th>3</th>\n",
       "      <td>1.0</td>\n",
       "      <td>-0.966272</td>\n",
       "      <td>-0.185226</td>\n",
       "      <td>1.792993</td>\n",
       "      <td>-0.863291</td>\n",
       "      <td>-0.010309</td>\n",
       "      <td>1.247203</td>\n",
       "      <td>0.237609</td>\n",
       "      <td>0.377436</td>\n",
       "      <td>-1.387024</td>\n",
       "      <td>...</td>\n",
       "      <td>-0.108300</td>\n",
       "      <td>0.005274</td>\n",
       "      <td>-0.190321</td>\n",
       "      <td>-1.175575</td>\n",
       "      <td>0.647376</td>\n",
       "      <td>-0.221929</td>\n",
       "      <td>0.062723</td>\n",
       "      <td>0.061458</td>\n",
       "      <td>123.50</td>\n",
       "      <td>0</td>\n",
       "    </tr>\n",
       "    <tr>\n",
       "      <th>4</th>\n",
       "      <td>2.0</td>\n",
       "      <td>-1.158233</td>\n",
       "      <td>0.877737</td>\n",
       "      <td>1.548718</td>\n",
       "      <td>0.403034</td>\n",
       "      <td>-0.407193</td>\n",
       "      <td>0.095921</td>\n",
       "      <td>0.592941</td>\n",
       "      <td>-0.270533</td>\n",
       "      <td>0.817739</td>\n",
       "      <td>...</td>\n",
       "      <td>-0.009431</td>\n",
       "      <td>0.798278</td>\n",
       "      <td>-0.137458</td>\n",
       "      <td>0.141267</td>\n",
       "      <td>-0.206010</td>\n",
       "      <td>0.502292</td>\n",
       "      <td>0.219422</td>\n",
       "      <td>0.215153</td>\n",
       "      <td>69.99</td>\n",
       "      <td>0</td>\n",
       "    </tr>\n",
       "  </tbody>\n",
       "</table>\n",
       "<p>5 rows × 31 columns</p>\n",
       "</div>"
      ],
      "text/plain": [
       "   Time        V1        V2        V3        V4        V5        V6        V7  \\\n",
       "0   0.0 -1.359807 -0.072781  2.536347  1.378155 -0.338321  0.462388  0.239599   \n",
       "1   0.0  1.191857  0.266151  0.166480  0.448154  0.060018 -0.082361 -0.078803   \n",
       "2   1.0 -1.358354 -1.340163  1.773209  0.379780 -0.503198  1.800499  0.791461   \n",
       "3   1.0 -0.966272 -0.185226  1.792993 -0.863291 -0.010309  1.247203  0.237609   \n",
       "4   2.0 -1.158233  0.877737  1.548718  0.403034 -0.407193  0.095921  0.592941   \n",
       "\n",
       "         V8        V9  ...         V21       V22       V23       V24  \\\n",
       "0  0.098698  0.363787  ...   -0.018307  0.277838 -0.110474  0.066928   \n",
       "1  0.085102 -0.255425  ...   -0.225775 -0.638672  0.101288 -0.339846   \n",
       "2  0.247676 -1.514654  ...    0.247998  0.771679  0.909412 -0.689281   \n",
       "3  0.377436 -1.387024  ...   -0.108300  0.005274 -0.190321 -1.175575   \n",
       "4 -0.270533  0.817739  ...   -0.009431  0.798278 -0.137458  0.141267   \n",
       "\n",
       "        V25       V26       V27       V28  Amount  Class  \n",
       "0  0.128539 -0.189115  0.133558 -0.021053  149.62      0  \n",
       "1  0.167170  0.125895 -0.008983  0.014724    2.69      0  \n",
       "2 -0.327642 -0.139097 -0.055353 -0.059752  378.66      0  \n",
       "3  0.647376 -0.221929  0.062723  0.061458  123.50      0  \n",
       "4 -0.206010  0.502292  0.219422  0.215153   69.99      0  \n",
       "\n",
       "[5 rows x 31 columns]"
      ]
     },
     "execution_count": 4,
     "metadata": {},
     "output_type": "execute_result"
    }
   ],
   "source": [
    "data.head()"
   ]
  },
  {
   "cell_type": "code",
   "execution_count": 5,
   "metadata": {},
   "outputs": [],
   "source": [
    "# sampling random 50000 points\n",
    "data_50000 = data.sample(n = 50000)"
   ]
  },
  {
   "cell_type": "code",
   "execution_count": 6,
   "metadata": {},
   "outputs": [
    {
     "data": {
      "text/html": [
       "<div>\n",
       "<style scoped>\n",
       "    .dataframe tbody tr th:only-of-type {\n",
       "        vertical-align: middle;\n",
       "    }\n",
       "\n",
       "    .dataframe tbody tr th {\n",
       "        vertical-align: top;\n",
       "    }\n",
       "\n",
       "    .dataframe thead th {\n",
       "        text-align: right;\n",
       "    }\n",
       "</style>\n",
       "<table border=\"1\" class=\"dataframe\">\n",
       "  <thead>\n",
       "    <tr style=\"text-align: right;\">\n",
       "      <th></th>\n",
       "      <th>Time</th>\n",
       "      <th>V1</th>\n",
       "      <th>V2</th>\n",
       "      <th>V3</th>\n",
       "      <th>V4</th>\n",
       "      <th>V5</th>\n",
       "      <th>V6</th>\n",
       "      <th>V7</th>\n",
       "      <th>V8</th>\n",
       "      <th>V9</th>\n",
       "      <th>...</th>\n",
       "      <th>V21</th>\n",
       "      <th>V22</th>\n",
       "      <th>V23</th>\n",
       "      <th>V24</th>\n",
       "      <th>V25</th>\n",
       "      <th>V26</th>\n",
       "      <th>V27</th>\n",
       "      <th>V28</th>\n",
       "      <th>Amount</th>\n",
       "      <th>Class</th>\n",
       "    </tr>\n",
       "  </thead>\n",
       "  <tbody>\n",
       "    <tr>\n",
       "      <th>74072</th>\n",
       "      <td>55413.0</td>\n",
       "      <td>1.010050</td>\n",
       "      <td>-0.476833</td>\n",
       "      <td>1.826221</td>\n",
       "      <td>2.930597</td>\n",
       "      <td>-1.174913</td>\n",
       "      <td>1.425051</td>\n",
       "      <td>-1.300402</td>\n",
       "      <td>0.581938</td>\n",
       "      <td>1.446847</td>\n",
       "      <td>...</td>\n",
       "      <td>0.018695</td>\n",
       "      <td>0.357714</td>\n",
       "      <td>-0.241636</td>\n",
       "      <td>-0.439880</td>\n",
       "      <td>0.512470</td>\n",
       "      <td>0.302766</td>\n",
       "      <td>0.073908</td>\n",
       "      <td>0.036178</td>\n",
       "      <td>51.86</td>\n",
       "      <td>0</td>\n",
       "    </tr>\n",
       "    <tr>\n",
       "      <th>37724</th>\n",
       "      <td>39079.0</td>\n",
       "      <td>-1.233197</td>\n",
       "      <td>-0.282540</td>\n",
       "      <td>1.665411</td>\n",
       "      <td>-1.940511</td>\n",
       "      <td>-0.224044</td>\n",
       "      <td>0.291964</td>\n",
       "      <td>-0.678048</td>\n",
       "      <td>0.484719</td>\n",
       "      <td>-1.197673</td>\n",
       "      <td>...</td>\n",
       "      <td>0.513156</td>\n",
       "      <td>1.328134</td>\n",
       "      <td>-0.465055</td>\n",
       "      <td>-0.596575</td>\n",
       "      <td>0.033947</td>\n",
       "      <td>-0.189891</td>\n",
       "      <td>-0.250734</td>\n",
       "      <td>-0.280349</td>\n",
       "      <td>24.95</td>\n",
       "      <td>0</td>\n",
       "    </tr>\n",
       "    <tr>\n",
       "      <th>207494</th>\n",
       "      <td>136702.0</td>\n",
       "      <td>1.917463</td>\n",
       "      <td>0.068259</td>\n",
       "      <td>-1.753261</td>\n",
       "      <td>0.585406</td>\n",
       "      <td>0.183106</td>\n",
       "      <td>-1.477567</td>\n",
       "      <td>0.450019</td>\n",
       "      <td>-0.481973</td>\n",
       "      <td>0.405572</td>\n",
       "      <td>...</td>\n",
       "      <td>0.253490</td>\n",
       "      <td>0.800281</td>\n",
       "      <td>-0.097207</td>\n",
       "      <td>0.018212</td>\n",
       "      <td>0.264895</td>\n",
       "      <td>-0.115647</td>\n",
       "      <td>-0.008427</td>\n",
       "      <td>-0.015899</td>\n",
       "      <td>75.95</td>\n",
       "      <td>0</td>\n",
       "    </tr>\n",
       "    <tr>\n",
       "      <th>180930</th>\n",
       "      <td>124753.0</td>\n",
       "      <td>-1.215556</td>\n",
       "      <td>1.259983</td>\n",
       "      <td>3.236210</td>\n",
       "      <td>4.503750</td>\n",
       "      <td>-0.472941</td>\n",
       "      <td>2.304407</td>\n",
       "      <td>-0.756308</td>\n",
       "      <td>0.550394</td>\n",
       "      <td>0.525018</td>\n",
       "      <td>...</td>\n",
       "      <td>-0.145317</td>\n",
       "      <td>0.581410</td>\n",
       "      <td>-0.479921</td>\n",
       "      <td>-0.623659</td>\n",
       "      <td>0.380522</td>\n",
       "      <td>0.702575</td>\n",
       "      <td>0.584164</td>\n",
       "      <td>0.175683</td>\n",
       "      <td>5.76</td>\n",
       "      <td>0</td>\n",
       "    </tr>\n",
       "    <tr>\n",
       "      <th>271725</th>\n",
       "      <td>164713.0</td>\n",
       "      <td>-1.424896</td>\n",
       "      <td>1.073129</td>\n",
       "      <td>0.105897</td>\n",
       "      <td>-0.941510</td>\n",
       "      <td>0.437835</td>\n",
       "      <td>0.584503</td>\n",
       "      <td>0.103029</td>\n",
       "      <td>1.050873</td>\n",
       "      <td>-0.247711</td>\n",
       "      <td>...</td>\n",
       "      <td>0.094488</td>\n",
       "      <td>0.238311</td>\n",
       "      <td>-0.060676</td>\n",
       "      <td>-0.998637</td>\n",
       "      <td>-0.103431</td>\n",
       "      <td>-0.002100</td>\n",
       "      <td>-0.226490</td>\n",
       "      <td>-0.049194</td>\n",
       "      <td>14.99</td>\n",
       "      <td>0</td>\n",
       "    </tr>\n",
       "  </tbody>\n",
       "</table>\n",
       "<p>5 rows × 31 columns</p>\n",
       "</div>"
      ],
      "text/plain": [
       "            Time        V1        V2        V3        V4        V5        V6  \\\n",
       "74072    55413.0  1.010050 -0.476833  1.826221  2.930597 -1.174913  1.425051   \n",
       "37724    39079.0 -1.233197 -0.282540  1.665411 -1.940511 -0.224044  0.291964   \n",
       "207494  136702.0  1.917463  0.068259 -1.753261  0.585406  0.183106 -1.477567   \n",
       "180930  124753.0 -1.215556  1.259983  3.236210  4.503750 -0.472941  2.304407   \n",
       "271725  164713.0 -1.424896  1.073129  0.105897 -0.941510  0.437835  0.584503   \n",
       "\n",
       "              V7        V8        V9  ...         V21       V22       V23  \\\n",
       "74072  -1.300402  0.581938  1.446847  ...    0.018695  0.357714 -0.241636   \n",
       "37724  -0.678048  0.484719 -1.197673  ...    0.513156  1.328134 -0.465055   \n",
       "207494  0.450019 -0.481973  0.405572  ...    0.253490  0.800281 -0.097207   \n",
       "180930 -0.756308  0.550394  0.525018  ...   -0.145317  0.581410 -0.479921   \n",
       "271725  0.103029  1.050873 -0.247711  ...    0.094488  0.238311 -0.060676   \n",
       "\n",
       "             V24       V25       V26       V27       V28  Amount  Class  \n",
       "74072  -0.439880  0.512470  0.302766  0.073908  0.036178   51.86      0  \n",
       "37724  -0.596575  0.033947 -0.189891 -0.250734 -0.280349   24.95      0  \n",
       "207494  0.018212  0.264895 -0.115647 -0.008427 -0.015899   75.95      0  \n",
       "180930 -0.623659  0.380522  0.702575  0.584164  0.175683    5.76      0  \n",
       "271725 -0.998637 -0.103431 -0.002100 -0.226490 -0.049194   14.99      0  \n",
       "\n",
       "[5 rows x 31 columns]"
      ]
     },
     "execution_count": 6,
     "metadata": {},
     "output_type": "execute_result"
    }
   ],
   "source": [
    "data_50000.head()"
   ]
  },
  {
   "cell_type": "code",
   "execution_count": 7,
   "metadata": {},
   "outputs": [],
   "source": [
    "data_50000.to_csv(\"NewCreditCard.csv\")"
   ]
  },
  {
   "cell_type": "markdown",
   "metadata": {},
   "source": [
    "### Detecting outliers for 'k' value 2\n",
    "\n",
    "#### We have assumed that 50% of total points in our data set are outliers."
   ]
  },
  {
   "cell_type": "code",
   "execution_count": 8,
   "metadata": {},
   "outputs": [],
   "source": [
    "newData = pd.read_csv(\"NewCreditCard.csv\")"
   ]
  },
  {
   "cell_type": "code",
   "execution_count": 9,
   "metadata": {},
   "outputs": [
    {
     "data": {
      "text/html": [
       "<div>\n",
       "<style scoped>\n",
       "    .dataframe tbody tr th:only-of-type {\n",
       "        vertical-align: middle;\n",
       "    }\n",
       "\n",
       "    .dataframe tbody tr th {\n",
       "        vertical-align: top;\n",
       "    }\n",
       "\n",
       "    .dataframe thead th {\n",
       "        text-align: right;\n",
       "    }\n",
       "</style>\n",
       "<table border=\"1\" class=\"dataframe\">\n",
       "  <thead>\n",
       "    <tr style=\"text-align: right;\">\n",
       "      <th></th>\n",
       "      <th>Unnamed: 0</th>\n",
       "      <th>Time</th>\n",
       "      <th>V1</th>\n",
       "      <th>V2</th>\n",
       "      <th>V3</th>\n",
       "      <th>V4</th>\n",
       "      <th>V5</th>\n",
       "      <th>V6</th>\n",
       "      <th>V7</th>\n",
       "      <th>V8</th>\n",
       "      <th>...</th>\n",
       "      <th>V21</th>\n",
       "      <th>V22</th>\n",
       "      <th>V23</th>\n",
       "      <th>V24</th>\n",
       "      <th>V25</th>\n",
       "      <th>V26</th>\n",
       "      <th>V27</th>\n",
       "      <th>V28</th>\n",
       "      <th>Amount</th>\n",
       "      <th>Class</th>\n",
       "    </tr>\n",
       "  </thead>\n",
       "  <tbody>\n",
       "    <tr>\n",
       "      <th>0</th>\n",
       "      <td>74072</td>\n",
       "      <td>55413.0</td>\n",
       "      <td>1.010050</td>\n",
       "      <td>-0.476833</td>\n",
       "      <td>1.826221</td>\n",
       "      <td>2.930597</td>\n",
       "      <td>-1.174913</td>\n",
       "      <td>1.425051</td>\n",
       "      <td>-1.300402</td>\n",
       "      <td>0.581938</td>\n",
       "      <td>...</td>\n",
       "      <td>0.018695</td>\n",
       "      <td>0.357714</td>\n",
       "      <td>-0.241636</td>\n",
       "      <td>-0.439880</td>\n",
       "      <td>0.512470</td>\n",
       "      <td>0.302766</td>\n",
       "      <td>0.073908</td>\n",
       "      <td>0.036178</td>\n",
       "      <td>51.86</td>\n",
       "      <td>0</td>\n",
       "    </tr>\n",
       "    <tr>\n",
       "      <th>1</th>\n",
       "      <td>37724</td>\n",
       "      <td>39079.0</td>\n",
       "      <td>-1.233197</td>\n",
       "      <td>-0.282540</td>\n",
       "      <td>1.665411</td>\n",
       "      <td>-1.940511</td>\n",
       "      <td>-0.224044</td>\n",
       "      <td>0.291964</td>\n",
       "      <td>-0.678048</td>\n",
       "      <td>0.484719</td>\n",
       "      <td>...</td>\n",
       "      <td>0.513156</td>\n",
       "      <td>1.328134</td>\n",
       "      <td>-0.465055</td>\n",
       "      <td>-0.596575</td>\n",
       "      <td>0.033947</td>\n",
       "      <td>-0.189891</td>\n",
       "      <td>-0.250734</td>\n",
       "      <td>-0.280349</td>\n",
       "      <td>24.95</td>\n",
       "      <td>0</td>\n",
       "    </tr>\n",
       "    <tr>\n",
       "      <th>2</th>\n",
       "      <td>207494</td>\n",
       "      <td>136702.0</td>\n",
       "      <td>1.917463</td>\n",
       "      <td>0.068259</td>\n",
       "      <td>-1.753261</td>\n",
       "      <td>0.585406</td>\n",
       "      <td>0.183106</td>\n",
       "      <td>-1.477567</td>\n",
       "      <td>0.450019</td>\n",
       "      <td>-0.481973</td>\n",
       "      <td>...</td>\n",
       "      <td>0.253490</td>\n",
       "      <td>0.800281</td>\n",
       "      <td>-0.097207</td>\n",
       "      <td>0.018212</td>\n",
       "      <td>0.264895</td>\n",
       "      <td>-0.115647</td>\n",
       "      <td>-0.008427</td>\n",
       "      <td>-0.015899</td>\n",
       "      <td>75.95</td>\n",
       "      <td>0</td>\n",
       "    </tr>\n",
       "    <tr>\n",
       "      <th>3</th>\n",
       "      <td>180930</td>\n",
       "      <td>124753.0</td>\n",
       "      <td>-1.215556</td>\n",
       "      <td>1.259983</td>\n",
       "      <td>3.236210</td>\n",
       "      <td>4.503750</td>\n",
       "      <td>-0.472941</td>\n",
       "      <td>2.304407</td>\n",
       "      <td>-0.756308</td>\n",
       "      <td>0.550394</td>\n",
       "      <td>...</td>\n",
       "      <td>-0.145317</td>\n",
       "      <td>0.581410</td>\n",
       "      <td>-0.479921</td>\n",
       "      <td>-0.623659</td>\n",
       "      <td>0.380522</td>\n",
       "      <td>0.702575</td>\n",
       "      <td>0.584164</td>\n",
       "      <td>0.175683</td>\n",
       "      <td>5.76</td>\n",
       "      <td>0</td>\n",
       "    </tr>\n",
       "    <tr>\n",
       "      <th>4</th>\n",
       "      <td>271725</td>\n",
       "      <td>164713.0</td>\n",
       "      <td>-1.424896</td>\n",
       "      <td>1.073129</td>\n",
       "      <td>0.105897</td>\n",
       "      <td>-0.941510</td>\n",
       "      <td>0.437835</td>\n",
       "      <td>0.584503</td>\n",
       "      <td>0.103029</td>\n",
       "      <td>1.050873</td>\n",
       "      <td>...</td>\n",
       "      <td>0.094488</td>\n",
       "      <td>0.238311</td>\n",
       "      <td>-0.060676</td>\n",
       "      <td>-0.998637</td>\n",
       "      <td>-0.103431</td>\n",
       "      <td>-0.002100</td>\n",
       "      <td>-0.226490</td>\n",
       "      <td>-0.049194</td>\n",
       "      <td>14.99</td>\n",
       "      <td>0</td>\n",
       "    </tr>\n",
       "  </tbody>\n",
       "</table>\n",
       "<p>5 rows × 32 columns</p>\n",
       "</div>"
      ],
      "text/plain": [
       "   Unnamed: 0      Time        V1        V2        V3        V4        V5  \\\n",
       "0       74072   55413.0  1.010050 -0.476833  1.826221  2.930597 -1.174913   \n",
       "1       37724   39079.0 -1.233197 -0.282540  1.665411 -1.940511 -0.224044   \n",
       "2      207494  136702.0  1.917463  0.068259 -1.753261  0.585406  0.183106   \n",
       "3      180930  124753.0 -1.215556  1.259983  3.236210  4.503750 -0.472941   \n",
       "4      271725  164713.0 -1.424896  1.073129  0.105897 -0.941510  0.437835   \n",
       "\n",
       "         V6        V7        V8  ...         V21       V22       V23  \\\n",
       "0  1.425051 -1.300402  0.581938  ...    0.018695  0.357714 -0.241636   \n",
       "1  0.291964 -0.678048  0.484719  ...    0.513156  1.328134 -0.465055   \n",
       "2 -1.477567  0.450019 -0.481973  ...    0.253490  0.800281 -0.097207   \n",
       "3  2.304407 -0.756308  0.550394  ...   -0.145317  0.581410 -0.479921   \n",
       "4  0.584503  0.103029  1.050873  ...    0.094488  0.238311 -0.060676   \n",
       "\n",
       "        V24       V25       V26       V27       V28  Amount  Class  \n",
       "0 -0.439880  0.512470  0.302766  0.073908  0.036178   51.86      0  \n",
       "1 -0.596575  0.033947 -0.189891 -0.250734 -0.280349   24.95      0  \n",
       "2  0.018212  0.264895 -0.115647 -0.008427 -0.015899   75.95      0  \n",
       "3 -0.623659  0.380522  0.702575  0.584164  0.175683    5.76      0  \n",
       "4 -0.998637 -0.103431 -0.002100 -0.226490 -0.049194   14.99      0  \n",
       "\n",
       "[5 rows x 32 columns]"
      ]
     },
     "execution_count": 9,
     "metadata": {},
     "output_type": "execute_result"
    }
   ],
   "source": [
    "newData.head()"
   ]
  },
  {
   "cell_type": "code",
   "execution_count": 10,
   "metadata": {},
   "outputs": [],
   "source": [
    "FinalData = newData.drop(\"Unnamed: 0\", axis = 1)"
   ]
  },
  {
   "cell_type": "code",
   "execution_count": 11,
   "metadata": {},
   "outputs": [
    {
     "data": {
      "text/html": [
       "<div>\n",
       "<style scoped>\n",
       "    .dataframe tbody tr th:only-of-type {\n",
       "        vertical-align: middle;\n",
       "    }\n",
       "\n",
       "    .dataframe tbody tr th {\n",
       "        vertical-align: top;\n",
       "    }\n",
       "\n",
       "    .dataframe thead th {\n",
       "        text-align: right;\n",
       "    }\n",
       "</style>\n",
       "<table border=\"1\" class=\"dataframe\">\n",
       "  <thead>\n",
       "    <tr style=\"text-align: right;\">\n",
       "      <th></th>\n",
       "      <th>Time</th>\n",
       "      <th>V1</th>\n",
       "      <th>V2</th>\n",
       "      <th>V3</th>\n",
       "      <th>V4</th>\n",
       "      <th>V5</th>\n",
       "      <th>V6</th>\n",
       "      <th>V7</th>\n",
       "      <th>V8</th>\n",
       "      <th>V9</th>\n",
       "      <th>...</th>\n",
       "      <th>V21</th>\n",
       "      <th>V22</th>\n",
       "      <th>V23</th>\n",
       "      <th>V24</th>\n",
       "      <th>V25</th>\n",
       "      <th>V26</th>\n",
       "      <th>V27</th>\n",
       "      <th>V28</th>\n",
       "      <th>Amount</th>\n",
       "      <th>Class</th>\n",
       "    </tr>\n",
       "  </thead>\n",
       "  <tbody>\n",
       "    <tr>\n",
       "      <th>0</th>\n",
       "      <td>55413.0</td>\n",
       "      <td>1.010050</td>\n",
       "      <td>-0.476833</td>\n",
       "      <td>1.826221</td>\n",
       "      <td>2.930597</td>\n",
       "      <td>-1.174913</td>\n",
       "      <td>1.425051</td>\n",
       "      <td>-1.300402</td>\n",
       "      <td>0.581938</td>\n",
       "      <td>1.446847</td>\n",
       "      <td>...</td>\n",
       "      <td>0.018695</td>\n",
       "      <td>0.357714</td>\n",
       "      <td>-0.241636</td>\n",
       "      <td>-0.439880</td>\n",
       "      <td>0.512470</td>\n",
       "      <td>0.302766</td>\n",
       "      <td>0.073908</td>\n",
       "      <td>0.036178</td>\n",
       "      <td>51.86</td>\n",
       "      <td>0</td>\n",
       "    </tr>\n",
       "    <tr>\n",
       "      <th>1</th>\n",
       "      <td>39079.0</td>\n",
       "      <td>-1.233197</td>\n",
       "      <td>-0.282540</td>\n",
       "      <td>1.665411</td>\n",
       "      <td>-1.940511</td>\n",
       "      <td>-0.224044</td>\n",
       "      <td>0.291964</td>\n",
       "      <td>-0.678048</td>\n",
       "      <td>0.484719</td>\n",
       "      <td>-1.197673</td>\n",
       "      <td>...</td>\n",
       "      <td>0.513156</td>\n",
       "      <td>1.328134</td>\n",
       "      <td>-0.465055</td>\n",
       "      <td>-0.596575</td>\n",
       "      <td>0.033947</td>\n",
       "      <td>-0.189891</td>\n",
       "      <td>-0.250734</td>\n",
       "      <td>-0.280349</td>\n",
       "      <td>24.95</td>\n",
       "      <td>0</td>\n",
       "    </tr>\n",
       "    <tr>\n",
       "      <th>2</th>\n",
       "      <td>136702.0</td>\n",
       "      <td>1.917463</td>\n",
       "      <td>0.068259</td>\n",
       "      <td>-1.753261</td>\n",
       "      <td>0.585406</td>\n",
       "      <td>0.183106</td>\n",
       "      <td>-1.477567</td>\n",
       "      <td>0.450019</td>\n",
       "      <td>-0.481973</td>\n",
       "      <td>0.405572</td>\n",
       "      <td>...</td>\n",
       "      <td>0.253490</td>\n",
       "      <td>0.800281</td>\n",
       "      <td>-0.097207</td>\n",
       "      <td>0.018212</td>\n",
       "      <td>0.264895</td>\n",
       "      <td>-0.115647</td>\n",
       "      <td>-0.008427</td>\n",
       "      <td>-0.015899</td>\n",
       "      <td>75.95</td>\n",
       "      <td>0</td>\n",
       "    </tr>\n",
       "    <tr>\n",
       "      <th>3</th>\n",
       "      <td>124753.0</td>\n",
       "      <td>-1.215556</td>\n",
       "      <td>1.259983</td>\n",
       "      <td>3.236210</td>\n",
       "      <td>4.503750</td>\n",
       "      <td>-0.472941</td>\n",
       "      <td>2.304407</td>\n",
       "      <td>-0.756308</td>\n",
       "      <td>0.550394</td>\n",
       "      <td>0.525018</td>\n",
       "      <td>...</td>\n",
       "      <td>-0.145317</td>\n",
       "      <td>0.581410</td>\n",
       "      <td>-0.479921</td>\n",
       "      <td>-0.623659</td>\n",
       "      <td>0.380522</td>\n",
       "      <td>0.702575</td>\n",
       "      <td>0.584164</td>\n",
       "      <td>0.175683</td>\n",
       "      <td>5.76</td>\n",
       "      <td>0</td>\n",
       "    </tr>\n",
       "    <tr>\n",
       "      <th>4</th>\n",
       "      <td>164713.0</td>\n",
       "      <td>-1.424896</td>\n",
       "      <td>1.073129</td>\n",
       "      <td>0.105897</td>\n",
       "      <td>-0.941510</td>\n",
       "      <td>0.437835</td>\n",
       "      <td>0.584503</td>\n",
       "      <td>0.103029</td>\n",
       "      <td>1.050873</td>\n",
       "      <td>-0.247711</td>\n",
       "      <td>...</td>\n",
       "      <td>0.094488</td>\n",
       "      <td>0.238311</td>\n",
       "      <td>-0.060676</td>\n",
       "      <td>-0.998637</td>\n",
       "      <td>-0.103431</td>\n",
       "      <td>-0.002100</td>\n",
       "      <td>-0.226490</td>\n",
       "      <td>-0.049194</td>\n",
       "      <td>14.99</td>\n",
       "      <td>0</td>\n",
       "    </tr>\n",
       "  </tbody>\n",
       "</table>\n",
       "<p>5 rows × 31 columns</p>\n",
       "</div>"
      ],
      "text/plain": [
       "       Time        V1        V2        V3        V4        V5        V6  \\\n",
       "0   55413.0  1.010050 -0.476833  1.826221  2.930597 -1.174913  1.425051   \n",
       "1   39079.0 -1.233197 -0.282540  1.665411 -1.940511 -0.224044  0.291964   \n",
       "2  136702.0  1.917463  0.068259 -1.753261  0.585406  0.183106 -1.477567   \n",
       "3  124753.0 -1.215556  1.259983  3.236210  4.503750 -0.472941  2.304407   \n",
       "4  164713.0 -1.424896  1.073129  0.105897 -0.941510  0.437835  0.584503   \n",
       "\n",
       "         V7        V8        V9  ...         V21       V22       V23  \\\n",
       "0 -1.300402  0.581938  1.446847  ...    0.018695  0.357714 -0.241636   \n",
       "1 -0.678048  0.484719 -1.197673  ...    0.513156  1.328134 -0.465055   \n",
       "2  0.450019 -0.481973  0.405572  ...    0.253490  0.800281 -0.097207   \n",
       "3 -0.756308  0.550394  0.525018  ...   -0.145317  0.581410 -0.479921   \n",
       "4  0.103029  1.050873 -0.247711  ...    0.094488  0.238311 -0.060676   \n",
       "\n",
       "        V24       V25       V26       V27       V28  Amount  Class  \n",
       "0 -0.439880  0.512470  0.302766  0.073908  0.036178   51.86      0  \n",
       "1 -0.596575  0.033947 -0.189891 -0.250734 -0.280349   24.95      0  \n",
       "2  0.018212  0.264895 -0.115647 -0.008427 -0.015899   75.95      0  \n",
       "3 -0.623659  0.380522  0.702575  0.584164  0.175683    5.76      0  \n",
       "4 -0.998637 -0.103431 -0.002100 -0.226490 -0.049194   14.99      0  \n",
       "\n",
       "[5 rows x 31 columns]"
      ]
     },
     "execution_count": 11,
     "metadata": {},
     "output_type": "execute_result"
    }
   ],
   "source": [
    "FinalData.head()"
   ]
  },
  {
   "cell_type": "code",
   "execution_count": 12,
   "metadata": {},
   "outputs": [
    {
     "data": {
      "text/plain": [
       "(50000, 31)"
      ]
     },
     "execution_count": 12,
     "metadata": {},
     "output_type": "execute_result"
    }
   ],
   "source": [
    "FinalData.shape"
   ]
  },
  {
   "cell_type": "code",
   "execution_count": 26,
   "metadata": {},
   "outputs": [
    {
     "data": {
      "text/plain": [
       "array([-1, -1,  1, ...,  1,  1,  1])"
      ]
     },
     "execution_count": 26,
     "metadata": {},
     "output_type": "execute_result"
    }
   ],
   "source": [
    "lof = LocalOutlierFactor(n_neighbors=2, algorithm='auto', metric='minkowski', p=2, metric_params=None, contamination=0.5, n_jobs=1)\n",
    "\n",
    "outlierArray = lof.fit_predict(FinalData)\n",
    "\n",
    "outlierArray"
   ]
  },
  {
   "cell_type": "markdown",
   "metadata": {},
   "source": [
    "**Here, we got an array, where row corresponding to array element 1 in our dataset is an inlier and row corresponding to array element to -1 in our dataset is an oulier**"
   ]
  },
  {
   "cell_type": "code",
   "execution_count": 27,
   "metadata": {},
   "outputs": [
    {
     "data": {
      "text/plain": [
       "50000"
      ]
     },
     "execution_count": 27,
     "metadata": {},
     "output_type": "execute_result"
    }
   ],
   "source": [
    "len(outlierArray)"
   ]
  },
  {
   "cell_type": "markdown",
   "metadata": {},
   "source": [
    "**Calculating total number of outlier and inliers**"
   ]
  },
  {
   "cell_type": "code",
   "execution_count": 28,
   "metadata": {},
   "outputs": [
    {
     "name": "stdout",
     "output_type": "stream",
     "text": [
      "Total number of outliers = 25000\n",
      "Total number of inliers = 25000\n"
     ]
    }
   ],
   "source": [
    "countOutliers = 0\n",
    "countInliers = 0\n",
    "for i in range(50000):\n",
    "    if outlierArray[i] == -1:\n",
    "        countOutliers += 1\n",
    "    else:\n",
    "        countInliers += 1\n",
    "print(\"Total number of outliers = \"+str(countOutliers))\n",
    "print(\"Total number of inliers = \"+str(countInliers))"
   ]
  },
  {
   "cell_type": "code",
   "execution_count": 29,
   "metadata": {},
   "outputs": [],
   "source": [
    "FinalData2 = FinalData.copy()"
   ]
  },
  {
   "cell_type": "code",
   "execution_count": 30,
   "metadata": {},
   "outputs": [
    {
     "data": {
      "text/plain": [
       "(50000, 31)"
      ]
     },
     "execution_count": 30,
     "metadata": {},
     "output_type": "execute_result"
    }
   ],
   "source": [
    "FinalData2.shape"
   ]
  },
  {
   "cell_type": "markdown",
   "metadata": {},
   "source": [
    "**Removing Outliers**"
   ]
  },
  {
   "cell_type": "code",
   "execution_count": 31,
   "metadata": {},
   "outputs": [
    {
     "data": {
      "text/html": [
       "<div>\n",
       "<style scoped>\n",
       "    .dataframe tbody tr th:only-of-type {\n",
       "        vertical-align: middle;\n",
       "    }\n",
       "\n",
       "    .dataframe tbody tr th {\n",
       "        vertical-align: top;\n",
       "    }\n",
       "\n",
       "    .dataframe thead th {\n",
       "        text-align: right;\n",
       "    }\n",
       "</style>\n",
       "<table border=\"1\" class=\"dataframe\">\n",
       "  <thead>\n",
       "    <tr style=\"text-align: right;\">\n",
       "      <th></th>\n",
       "      <th>Time</th>\n",
       "      <th>V1</th>\n",
       "      <th>V2</th>\n",
       "      <th>V3</th>\n",
       "      <th>V4</th>\n",
       "      <th>V5</th>\n",
       "      <th>V6</th>\n",
       "      <th>V7</th>\n",
       "      <th>V8</th>\n",
       "      <th>V9</th>\n",
       "      <th>...</th>\n",
       "      <th>V21</th>\n",
       "      <th>V22</th>\n",
       "      <th>V23</th>\n",
       "      <th>V24</th>\n",
       "      <th>V25</th>\n",
       "      <th>V26</th>\n",
       "      <th>V27</th>\n",
       "      <th>V28</th>\n",
       "      <th>Amount</th>\n",
       "      <th>Class</th>\n",
       "    </tr>\n",
       "  </thead>\n",
       "  <tbody>\n",
       "    <tr>\n",
       "      <th>2</th>\n",
       "      <td>136702.0</td>\n",
       "      <td>1.917463</td>\n",
       "      <td>0.068259</td>\n",
       "      <td>-1.753261</td>\n",
       "      <td>0.585406</td>\n",
       "      <td>0.183106</td>\n",
       "      <td>-1.477567</td>\n",
       "      <td>0.450019</td>\n",
       "      <td>-0.481973</td>\n",
       "      <td>0.405572</td>\n",
       "      <td>...</td>\n",
       "      <td>0.253490</td>\n",
       "      <td>0.800281</td>\n",
       "      <td>-0.097207</td>\n",
       "      <td>0.018212</td>\n",
       "      <td>0.264895</td>\n",
       "      <td>-0.115647</td>\n",
       "      <td>-0.008427</td>\n",
       "      <td>-0.015899</td>\n",
       "      <td>75.95</td>\n",
       "      <td>0</td>\n",
       "    </tr>\n",
       "    <tr>\n",
       "      <th>3</th>\n",
       "      <td>124753.0</td>\n",
       "      <td>-1.215556</td>\n",
       "      <td>1.259983</td>\n",
       "      <td>3.236210</td>\n",
       "      <td>4.503750</td>\n",
       "      <td>-0.472941</td>\n",
       "      <td>2.304407</td>\n",
       "      <td>-0.756308</td>\n",
       "      <td>0.550394</td>\n",
       "      <td>0.525018</td>\n",
       "      <td>...</td>\n",
       "      <td>-0.145317</td>\n",
       "      <td>0.581410</td>\n",
       "      <td>-0.479921</td>\n",
       "      <td>-0.623659</td>\n",
       "      <td>0.380522</td>\n",
       "      <td>0.702575</td>\n",
       "      <td>0.584164</td>\n",
       "      <td>0.175683</td>\n",
       "      <td>5.76</td>\n",
       "      <td>0</td>\n",
       "    </tr>\n",
       "    <tr>\n",
       "      <th>6</th>\n",
       "      <td>154725.0</td>\n",
       "      <td>1.982318</td>\n",
       "      <td>-0.535051</td>\n",
       "      <td>-0.214848</td>\n",
       "      <td>0.521755</td>\n",
       "      <td>-0.983215</td>\n",
       "      <td>-0.640933</td>\n",
       "      <td>-0.727199</td>\n",
       "      <td>0.003512</td>\n",
       "      <td>1.439345</td>\n",
       "      <td>...</td>\n",
       "      <td>0.149974</td>\n",
       "      <td>0.598656</td>\n",
       "      <td>0.178110</td>\n",
       "      <td>0.073322</td>\n",
       "      <td>-0.322433</td>\n",
       "      <td>0.569570</td>\n",
       "      <td>-0.026922</td>\n",
       "      <td>-0.048724</td>\n",
       "      <td>11.50</td>\n",
       "      <td>0</td>\n",
       "    </tr>\n",
       "    <tr>\n",
       "      <th>7</th>\n",
       "      <td>32724.0</td>\n",
       "      <td>-0.455484</td>\n",
       "      <td>0.670802</td>\n",
       "      <td>1.465590</td>\n",
       "      <td>-1.228577</td>\n",
       "      <td>-0.004430</td>\n",
       "      <td>-0.935596</td>\n",
       "      <td>0.801324</td>\n",
       "      <td>-0.214961</td>\n",
       "      <td>0.259080</td>\n",
       "      <td>...</td>\n",
       "      <td>-0.066009</td>\n",
       "      <td>-0.013992</td>\n",
       "      <td>-0.025550</td>\n",
       "      <td>0.418110</td>\n",
       "      <td>-0.392545</td>\n",
       "      <td>0.737224</td>\n",
       "      <td>-0.103165</td>\n",
       "      <td>-0.136999</td>\n",
       "      <td>3.84</td>\n",
       "      <td>0</td>\n",
       "    </tr>\n",
       "    <tr>\n",
       "      <th>8</th>\n",
       "      <td>25097.0</td>\n",
       "      <td>0.328613</td>\n",
       "      <td>1.784994</td>\n",
       "      <td>-2.151250</td>\n",
       "      <td>1.984450</td>\n",
       "      <td>0.430838</td>\n",
       "      <td>-1.748658</td>\n",
       "      <td>0.782288</td>\n",
       "      <td>0.059741</td>\n",
       "      <td>0.801911</td>\n",
       "      <td>...</td>\n",
       "      <td>-0.209499</td>\n",
       "      <td>-0.406531</td>\n",
       "      <td>0.360340</td>\n",
       "      <td>-0.051373</td>\n",
       "      <td>-0.437846</td>\n",
       "      <td>-0.438223</td>\n",
       "      <td>0.071792</td>\n",
       "      <td>-0.048209</td>\n",
       "      <td>89.99</td>\n",
       "      <td>0</td>\n",
       "    </tr>\n",
       "  </tbody>\n",
       "</table>\n",
       "<p>5 rows × 31 columns</p>\n",
       "</div>"
      ],
      "text/plain": [
       "       Time        V1        V2        V3        V4        V5        V6  \\\n",
       "2  136702.0  1.917463  0.068259 -1.753261  0.585406  0.183106 -1.477567   \n",
       "3  124753.0 -1.215556  1.259983  3.236210  4.503750 -0.472941  2.304407   \n",
       "6  154725.0  1.982318 -0.535051 -0.214848  0.521755 -0.983215 -0.640933   \n",
       "7   32724.0 -0.455484  0.670802  1.465590 -1.228577 -0.004430 -0.935596   \n",
       "8   25097.0  0.328613  1.784994 -2.151250  1.984450  0.430838 -1.748658   \n",
       "\n",
       "         V7        V8        V9  ...         V21       V22       V23  \\\n",
       "2  0.450019 -0.481973  0.405572  ...    0.253490  0.800281 -0.097207   \n",
       "3 -0.756308  0.550394  0.525018  ...   -0.145317  0.581410 -0.479921   \n",
       "6 -0.727199  0.003512  1.439345  ...    0.149974  0.598656  0.178110   \n",
       "7  0.801324 -0.214961  0.259080  ...   -0.066009 -0.013992 -0.025550   \n",
       "8  0.782288  0.059741  0.801911  ...   -0.209499 -0.406531  0.360340   \n",
       "\n",
       "        V24       V25       V26       V27       V28  Amount  Class  \n",
       "2  0.018212  0.264895 -0.115647 -0.008427 -0.015899   75.95      0  \n",
       "3 -0.623659  0.380522  0.702575  0.584164  0.175683    5.76      0  \n",
       "6  0.073322 -0.322433  0.569570 -0.026922 -0.048724   11.50      0  \n",
       "7  0.418110 -0.392545  0.737224 -0.103165 -0.136999    3.84      0  \n",
       "8 -0.051373 -0.437846 -0.438223  0.071792 -0.048209   89.99      0  \n",
       "\n",
       "[5 rows x 31 columns]"
      ]
     },
     "execution_count": 31,
     "metadata": {},
     "output_type": "execute_result"
    }
   ],
   "source": [
    "for i in range(50000):\n",
    "    if outlierArray[i] == -1:\n",
    "        FinalData.drop(i, inplace = True)\n",
    "FinalData.head()"
   ]
  },
  {
   "cell_type": "code",
   "execution_count": 32,
   "metadata": {},
   "outputs": [
    {
     "data": {
      "text/plain": [
       "(50000, 31)"
      ]
     },
     "execution_count": 32,
     "metadata": {},
     "output_type": "execute_result"
    }
   ],
   "source": [
    "FinalData2.shape"
   ]
  },
  {
   "cell_type": "code",
   "execution_count": 33,
   "metadata": {},
   "outputs": [
    {
     "data": {
      "text/plain": [
       "(25000, 31)"
      ]
     },
     "execution_count": 33,
     "metadata": {},
     "output_type": "execute_result"
    }
   ],
   "source": [
    "FinalData.shape"
   ]
  },
  {
   "cell_type": "code",
   "execution_count": 34,
   "metadata": {},
   "outputs": [
    {
     "data": {
      "image/png": "[encoded data removed]",
      "text/plain": [
       "<Figure size 1152x432 with 2 Axes>"
      ]
     },
     "metadata": {},
     "output_type": "display_data"
    }
   ],
   "source": [
    "fig = plt.figure(figsize = (16,6))\n",
    "\n",
    "plt.subplot(1, 2, 1)\n",
    "plt.title(\"Before removing outliers for column V1\")\n",
    "ax = sns.boxplot(x=\"Class\", y = \"V1\", data= FinalData2, hue = \"Class\")\n",
    "\n",
    "plt.subplot(1, 2, 2)\n",
    "plt.title(\"After removing outliers for column V1\")\n",
    "ax = sns.boxplot(x=\"Class\", y = \"V1\", data= FinalData, hue = \"Class\")"
   ]
  },
  {
   "cell_type": "code",
   "execution_count": 35,
   "metadata": {},
   "outputs": [
    {
     "data": {
      "image/png": "[encoded data removed]",
      "text/plain": [
       "<Figure size 1152x432 with 2 Axes>"
      ]
     },
     "metadata": {},
     "output_type": "display_data"
    }
   ],
   "source": [
    "fig = plt.figure(figsize = (16,6))\n",
    "\n",
    "plt.subplot(1, 2, 1)\n",
    "plt.title(\"Before removing outliers for column V2\")\n",
    "ax = sns.boxplot(x=\"Class\", y = \"V2\", data= FinalData2, hue = \"Class\")\n",
    "\n",
    "plt.subplot(1, 2, 2)\n",
    "plt.title(\"After removing outliers for column V2\")\n",
    "ax = sns.boxplot(x=\"Class\", y = \"V2\", data= FinalData, hue = \"Class\")"
   ]
  },
  {
   "cell_type": "code",
   "execution_count": 36,
   "metadata": {},
   "outputs": [
    {
     "data": {
      "image/png": "[encoded data removed]",
      "text/plain": [
       "<Figure size 1152x432 with 2 Axes>"
      ]
     },
     "metadata": {},
     "output_type": "display_data"
    }
   ],
   "source": [
    "fig = plt.figure(figsize = (16,6))\n",
    "\n",
    "plt.subplot(1, 2, 1)\n",
    "plt.title(\"Before removing outliers for column V3\")\n",
    "ax = sns.boxplot(x=\"Class\", y = \"V3\", data= FinalData2, hue = \"Class\")\n",
    "\n",
    "plt.subplot(1, 2, 2)\n",
    "plt.title(\"After removing outliers for column V3\")\n",
    "ax = sns.boxplot(x=\"Class\", y = \"V3\", data= FinalData, hue = \"Class\")"
   ]
  },
  {
   "cell_type": "code",
   "execution_count": 37,
   "metadata": {},
   "outputs": [
    {
     "data": {
      "image/png": "[encoded data removed]",
      "text/plain": [
       "<Figure size 1152x432 with 2 Axes>"
      ]
     },
     "metadata": {},
     "output_type": "display_data"
    }
   ],
   "source": [
    "fig = plt.figure(figsize = (16,6))\n",
    "\n",
    "plt.subplot(1, 2, 1)\n",
    "plt.title(\"Before removing outliers for column V4\")\n",
    "ax = sns.boxplot(x=\"Class\", y = \"V4\", data= FinalData2, hue = \"Class\")\n",
    "\n",
    "plt.subplot(1, 2, 2)\n",
    "plt.title(\"After removing outliers for column V4\")\n",
    "ax = sns.boxplot(x=\"Class\", y = \"V4\", data= FinalData, hue = \"Class\")"
   ]
  },
  {
   "cell_type": "code",
   "execution_count": 38,
   "metadata": {},
   "outputs": [
    {
     "data": {
      "image/png": "[encoded data removed]",
      "text/plain": [
       "<Figure size 1152x432 with 2 Axes>"
      ]
     },
     "metadata": {},
     "output_type": "display_data"
    }
   ],
   "source": [
    "fig = plt.figure(figsize = (16,6))\n",
    "\n",
    "plt.subplot(1, 2, 1)\n",
    "plt.title(\"Before removing outliers for column V5\")\n",
    "ax = sns.boxplot(x=\"Class\", y = \"V5\", data= FinalData2, hue = \"Class\")\n",
    "\n",
    "plt.subplot(1, 2, 2)\n",
    "plt.title(\"After removing outliers for column V5\")\n",
    "ax = sns.boxplot(x=\"Class\", y = \"V5\", data= FinalData, hue = \"Class\")"
   ]
  },
  {
   "cell_type": "markdown",
   "metadata": {},
   "source": [
    "**It can easily be observed in all of the above boxplots corresponding to columns V1, V2, V3, V4, V5, that most of the outliers for points belongs to class 1 has been removed. Furthermore, many of the outliers for points belong to class 0 has also been removed. For example for class 0 in plot 1 for column V1 all of the outliers less than -35 have been removed. Similarly, for class 0 in plot 3 for column V3 all the outliers less than -18 have been removed. Similarly, for class 0 in plot 5 for column V5 all of the outliers greater than 15 have been removed.**"
   ]
  },
  {
   "cell_type": "markdown",
   "metadata": {},
   "source": [
    "### Detecting outliers for 'k' value 3\n",
    "\n",
    "#### We have assumed that 50% of total points in our data set are outliers."
   ]
  },
  {
   "cell_type": "code",
   "execution_count": 39,
   "metadata": {},
   "outputs": [
    {
     "data": {
      "text/html": [
       "<div>\n",
       "<style scoped>\n",
       "    .dataframe tbody tr th:only-of-type {\n",
       "        vertical-align: middle;\n",
       "    }\n",
       "\n",
       "    .dataframe tbody tr th {\n",
       "        vertical-align: top;\n",
       "    }\n",
       "\n",
       "    .dataframe thead th {\n",
       "        text-align: right;\n",
       "    }\n",
       "</style>\n",
       "<table border=\"1\" class=\"dataframe\">\n",
       "  <thead>\n",
       "    <tr style=\"text-align: right;\">\n",
       "      <th></th>\n",
       "      <th>Unnamed: 0</th>\n",
       "      <th>Time</th>\n",
       "      <th>V1</th>\n",
       "      <th>V2</th>\n",
       "      <th>V3</th>\n",
       "      <th>V4</th>\n",
       "      <th>V5</th>\n",
       "      <th>V6</th>\n",
       "      <th>V7</th>\n",
       "      <th>V8</th>\n",
       "      <th>...</th>\n",
       "      <th>V21</th>\n",
       "      <th>V22</th>\n",
       "      <th>V23</th>\n",
       "      <th>V24</th>\n",
       "      <th>V25</th>\n",
       "      <th>V26</th>\n",
       "      <th>V27</th>\n",
       "      <th>V28</th>\n",
       "      <th>Amount</th>\n",
       "      <th>Class</th>\n",
       "    </tr>\n",
       "  </thead>\n",
       "  <tbody>\n",
       "    <tr>\n",
       "      <th>0</th>\n",
       "      <td>74072</td>\n",
       "      <td>55413.0</td>\n",
       "      <td>1.010050</td>\n",
       "      <td>-0.476833</td>\n",
       "      <td>1.826221</td>\n",
       "      <td>2.930597</td>\n",
       "      <td>-1.174913</td>\n",
       "      <td>1.425051</td>\n",
       "      <td>-1.300402</td>\n",
       "      <td>0.581938</td>\n",
       "      <td>...</td>\n",
       "      <td>0.018695</td>\n",
       "      <td>0.357714</td>\n",
       "      <td>-0.241636</td>\n",
       "      <td>-0.439880</td>\n",
       "      <td>0.512470</td>\n",
       "      <td>0.302766</td>\n",
       "      <td>0.073908</td>\n",
       "      <td>0.036178</td>\n",
       "      <td>51.86</td>\n",
       "      <td>0</td>\n",
       "    </tr>\n",
       "    <tr>\n",
       "      <th>1</th>\n",
       "      <td>37724</td>\n",
       "      <td>39079.0</td>\n",
       "      <td>-1.233197</td>\n",
       "      <td>-0.282540</td>\n",
       "      <td>1.665411</td>\n",
       "      <td>-1.940511</td>\n",
       "      <td>-0.224044</td>\n",
       "      <td>0.291964</td>\n",
       "      <td>-0.678048</td>\n",
       "      <td>0.484719</td>\n",
       "      <td>...</td>\n",
       "      <td>0.513156</td>\n",
       "      <td>1.328134</td>\n",
       "      <td>-0.465055</td>\n",
       "      <td>-0.596575</td>\n",
       "      <td>0.033947</td>\n",
       "      <td>-0.189891</td>\n",
       "      <td>-0.250734</td>\n",
       "      <td>-0.280349</td>\n",
       "      <td>24.95</td>\n",
       "      <td>0</td>\n",
       "    </tr>\n",
       "    <tr>\n",
       "      <th>2</th>\n",
       "      <td>207494</td>\n",
       "      <td>136702.0</td>\n",
       "      <td>1.917463</td>\n",
       "      <td>0.068259</td>\n",
       "      <td>-1.753261</td>\n",
       "      <td>0.585406</td>\n",
       "      <td>0.183106</td>\n",
       "      <td>-1.477567</td>\n",
       "      <td>0.450019</td>\n",
       "      <td>-0.481973</td>\n",
       "      <td>...</td>\n",
       "      <td>0.253490</td>\n",
       "      <td>0.800281</td>\n",
       "      <td>-0.097207</td>\n",
       "      <td>0.018212</td>\n",
       "      <td>0.264895</td>\n",
       "      <td>-0.115647</td>\n",
       "      <td>-0.008427</td>\n",
       "      <td>-0.015899</td>\n",
       "      <td>75.95</td>\n",
       "      <td>0</td>\n",
       "    </tr>\n",
       "    <tr>\n",
       "      <th>3</th>\n",
       "      <td>180930</td>\n",
       "      <td>124753.0</td>\n",
       "      <td>-1.215556</td>\n",
       "      <td>1.259983</td>\n",
       "      <td>3.236210</td>\n",
       "      <td>4.503750</td>\n",
       "      <td>-0.472941</td>\n",
       "      <td>2.304407</td>\n",
       "      <td>-0.756308</td>\n",
       "      <td>0.550394</td>\n",
       "      <td>...</td>\n",
       "      <td>-0.145317</td>\n",
       "      <td>0.581410</td>\n",
       "      <td>-0.479921</td>\n",
       "      <td>-0.623659</td>\n",
       "      <td>0.380522</td>\n",
       "      <td>0.702575</td>\n",
       "      <td>0.584164</td>\n",
       "      <td>0.175683</td>\n",
       "      <td>5.76</td>\n",
       "      <td>0</td>\n",
       "    </tr>\n",
       "    <tr>\n",
       "      <th>4</th>\n",
       "      <td>271725</td>\n",
       "      <td>164713.0</td>\n",
       "      <td>-1.424896</td>\n",
       "      <td>1.073129</td>\n",
       "      <td>0.105897</td>\n",
       "      <td>-0.941510</td>\n",
       "      <td>0.437835</td>\n",
       "      <td>0.584503</td>\n",
       "      <td>0.103029</td>\n",
       "      <td>1.050873</td>\n",
       "      <td>...</td>\n",
       "      <td>0.094488</td>\n",
       "      <td>0.238311</td>\n",
       "      <td>-0.060676</td>\n",
       "      <td>-0.998637</td>\n",
       "      <td>-0.103431</td>\n",
       "      <td>-0.002100</td>\n",
       "      <td>-0.226490</td>\n",
       "      <td>-0.049194</td>\n",
       "      <td>14.99</td>\n",
       "      <td>0</td>\n",
       "    </tr>\n",
       "  </tbody>\n",
       "</table>\n",
       "<p>5 rows × 32 columns</p>\n",
       "</div>"
      ],
      "text/plain": [
       "   Unnamed: 0      Time        V1        V2        V3        V4        V5  \\\n",
       "0       74072   55413.0  1.010050 -0.476833  1.826221  2.930597 -1.174913   \n",
       "1       37724   39079.0 -1.233197 -0.282540  1.665411 -1.940511 -0.224044   \n",
       "2      207494  136702.0  1.917463  0.068259 -1.753261  0.585406  0.183106   \n",
       "3      180930  124753.0 -1.215556  1.259983  3.236210  4.503750 -0.472941   \n",
       "4      271725  164713.0 -1.424896  1.073129  0.105897 -0.941510  0.437835   \n",
       "\n",
       "         V6        V7        V8  ...         V21       V22       V23  \\\n",
       "0  1.425051 -1.300402  0.581938  ...    0.018695  0.357714 -0.241636   \n",
       "1  0.291964 -0.678048  0.484719  ...    0.513156  1.328134 -0.465055   \n",
       "2 -1.477567  0.450019 -0.481973  ...    0.253490  0.800281 -0.097207   \n",
       "3  2.304407 -0.756308  0.550394  ...   -0.145317  0.581410 -0.479921   \n",
       "4  0.584503  0.103029  1.050873  ...    0.094488  0.238311 -0.060676   \n",
       "\n",
       "        V24       V25       V26       V27       V28  Amount  Class  \n",
       "0 -0.439880  0.512470  0.302766  0.073908  0.036178   51.86      0  \n",
       "1 -0.596575  0.033947 -0.189891 -0.250734 -0.280349   24.95      0  \n",
       "2  0.018212  0.264895 -0.115647 -0.008427 -0.015899   75.95      0  \n",
       "3 -0.623659  0.380522  0.702575  0.584164  0.175683    5.76      0  \n",
       "4 -0.998637 -0.103431 -0.002100 -0.226490 -0.049194   14.99      0  \n",
       "\n",
       "[5 rows x 32 columns]"
      ]
     },
     "execution_count": 39,
     "metadata": {},
     "output_type": "execute_result"
    }
   ],
   "source": [
    "newData = pd.read_csv(\"NewCreditCard.csv\")\n",
    "\n",
    "newData.head()"
   ]
  },
  {
   "cell_type": "code",
   "execution_count": 40,
   "metadata": {},
   "outputs": [
    {
     "data": {
      "text/html": [
       "<div>\n",
       "<style scoped>\n",
       "    .dataframe tbody tr th:only-of-type {\n",
       "        vertical-align: middle;\n",
       "    }\n",
       "\n",
       "    .dataframe tbody tr th {\n",
       "        vertical-align: top;\n",
       "    }\n",
       "\n",
       "    .dataframe thead th {\n",
       "        text-align: right;\n",
       "    }\n",
       "</style>\n",
       "<table border=\"1\" class=\"dataframe\">\n",
       "  <thead>\n",
       "    <tr style=\"text-align: right;\">\n",
       "      <th></th>\n",
       "      <th>Time</th>\n",
       "      <th>V1</th>\n",
       "      <th>V2</th>\n",
       "      <th>V3</th>\n",
       "      <th>V4</th>\n",
       "      <th>V5</th>\n",
       "      <th>V6</th>\n",
       "      <th>V7</th>\n",
       "      <th>V8</th>\n",
       "      <th>V9</th>\n",
       "      <th>...</th>\n",
       "      <th>V21</th>\n",
       "      <th>V22</th>\n",
       "      <th>V23</th>\n",
       "      <th>V24</th>\n",
       "      <th>V25</th>\n",
       "      <th>V26</th>\n",
       "      <th>V27</th>\n",
       "      <th>V28</th>\n",
       "      <th>Amount</th>\n",
       "      <th>Class</th>\n",
       "    </tr>\n",
       "  </thead>\n",
       "  <tbody>\n",
       "    <tr>\n",
       "      <th>0</th>\n",
       "      <td>55413.0</td>\n",
       "      <td>1.010050</td>\n",
       "      <td>-0.476833</td>\n",
       "      <td>1.826221</td>\n",
       "      <td>2.930597</td>\n",
       "      <td>-1.174913</td>\n",
       "      <td>1.425051</td>\n",
       "      <td>-1.300402</td>\n",
       "      <td>0.581938</td>\n",
       "      <td>1.446847</td>\n",
       "      <td>...</td>\n",
       "      <td>0.018695</td>\n",
       "      <td>0.357714</td>\n",
       "      <td>-0.241636</td>\n",
       "      <td>-0.439880</td>\n",
       "      <td>0.512470</td>\n",
       "      <td>0.302766</td>\n",
       "      <td>0.073908</td>\n",
       "      <td>0.036178</td>\n",
       "      <td>51.86</td>\n",
       "      <td>0</td>\n",
       "    </tr>\n",
       "    <tr>\n",
       "      <th>1</th>\n",
       "      <td>39079.0</td>\n",
       "      <td>-1.233197</td>\n",
       "      <td>-0.282540</td>\n",
       "      <td>1.665411</td>\n",
       "      <td>-1.940511</td>\n",
       "      <td>-0.224044</td>\n",
       "      <td>0.291964</td>\n",
       "      <td>-0.678048</td>\n",
       "      <td>0.484719</td>\n",
       "      <td>-1.197673</td>\n",
       "      <td>...</td>\n",
       "      <td>0.513156</td>\n",
       "      <td>1.328134</td>\n",
       "      <td>-0.465055</td>\n",
       "      <td>-0.596575</td>\n",
       "      <td>0.033947</td>\n",
       "      <td>-0.189891</td>\n",
       "      <td>-0.250734</td>\n",
       "      <td>-0.280349</td>\n",
       "      <td>24.95</td>\n",
       "      <td>0</td>\n",
       "    </tr>\n",
       "    <tr>\n",
       "      <th>2</th>\n",
       "      <td>136702.0</td>\n",
       "      <td>1.917463</td>\n",
       "      <td>0.068259</td>\n",
       "      <td>-1.753261</td>\n",
       "      <td>0.585406</td>\n",
       "      <td>0.183106</td>\n",
       "      <td>-1.477567</td>\n",
       "      <td>0.450019</td>\n",
       "      <td>-0.481973</td>\n",
       "      <td>0.405572</td>\n",
       "      <td>...</td>\n",
       "      <td>0.253490</td>\n",
       "      <td>0.800281</td>\n",
       "      <td>-0.097207</td>\n",
       "      <td>0.018212</td>\n",
       "      <td>0.264895</td>\n",
       "      <td>-0.115647</td>\n",
       "      <td>-0.008427</td>\n",
       "      <td>-0.015899</td>\n",
       "      <td>75.95</td>\n",
       "      <td>0</td>\n",
       "    </tr>\n",
       "    <tr>\n",
       "      <th>3</th>\n",
       "      <td>124753.0</td>\n",
       "      <td>-1.215556</td>\n",
       "      <td>1.259983</td>\n",
       "      <td>3.236210</td>\n",
       "      <td>4.503750</td>\n",
       "      <td>-0.472941</td>\n",
       "      <td>2.304407</td>\n",
       "      <td>-0.756308</td>\n",
       "      <td>0.550394</td>\n",
       "      <td>0.525018</td>\n",
       "      <td>...</td>\n",
       "      <td>-0.145317</td>\n",
       "      <td>0.581410</td>\n",
       "      <td>-0.479921</td>\n",
       "      <td>-0.623659</td>\n",
       "      <td>0.380522</td>\n",
       "      <td>0.702575</td>\n",
       "      <td>0.584164</td>\n",
       "      <td>0.175683</td>\n",
       "      <td>5.76</td>\n",
       "      <td>0</td>\n",
       "    </tr>\n",
       "    <tr>\n",
       "      <th>4</th>\n",
       "      <td>164713.0</td>\n",
       "      <td>-1.424896</td>\n",
       "      <td>1.073129</td>\n",
       "      <td>0.105897</td>\n",
       "      <td>-0.941510</td>\n",
       "      <td>0.437835</td>\n",
       "      <td>0.584503</td>\n",
       "      <td>0.103029</td>\n",
       "      <td>1.050873</td>\n",
       "      <td>-0.247711</td>\n",
       "      <td>...</td>\n",
       "      <td>0.094488</td>\n",
       "      <td>0.238311</td>\n",
       "      <td>-0.060676</td>\n",
       "      <td>-0.998637</td>\n",
       "      <td>-0.103431</td>\n",
       "      <td>-0.002100</td>\n",
       "      <td>-0.226490</td>\n",
       "      <td>-0.049194</td>\n",
       "      <td>14.99</td>\n",
       "      <td>0</td>\n",
       "    </tr>\n",
       "  </tbody>\n",
       "</table>\n",
       "<p>5 rows × 31 columns</p>\n",
       "</div>"
      ],
      "text/plain": [
       "       Time        V1        V2        V3        V4        V5        V6  \\\n",
       "0   55413.0  1.010050 -0.476833  1.826221  2.930597 -1.174913  1.425051   \n",
       "1   39079.0 -1.233197 -0.282540  1.665411 -1.940511 -0.224044  0.291964   \n",
       "2  136702.0  1.917463  0.068259 -1.753261  0.585406  0.183106 -1.477567   \n",
       "3  124753.0 -1.215556  1.259983  3.236210  4.503750 -0.472941  2.304407   \n",
       "4  164713.0 -1.424896  1.073129  0.105897 -0.941510  0.437835  0.584503   \n",
       "\n",
       "         V7        V8        V9  ...         V21       V22       V23  \\\n",
       "0 -1.300402  0.581938  1.446847  ...    0.018695  0.357714 -0.241636   \n",
       "1 -0.678048  0.484719 -1.197673  ...    0.513156  1.328134 -0.465055   \n",
       "2  0.450019 -0.481973  0.405572  ...    0.253490  0.800281 -0.097207   \n",
       "3 -0.756308  0.550394  0.525018  ...   -0.145317  0.581410 -0.479921   \n",
       "4  0.103029  1.050873 -0.247711  ...    0.094488  0.238311 -0.060676   \n",
       "\n",
       "        V24       V25       V26       V27       V28  Amount  Class  \n",
       "0 -0.439880  0.512470  0.302766  0.073908  0.036178   51.86      0  \n",
       "1 -0.596575  0.033947 -0.189891 -0.250734 -0.280349   24.95      0  \n",
       "2  0.018212  0.264895 -0.115647 -0.008427 -0.015899   75.95      0  \n",
       "3 -0.623659  0.380522  0.702575  0.584164  0.175683    5.76      0  \n",
       "4 -0.998637 -0.103431 -0.002100 -0.226490 -0.049194   14.99      0  \n",
       "\n",
       "[5 rows x 31 columns]"
      ]
     },
     "execution_count": 40,
     "metadata": {},
     "output_type": "execute_result"
    }
   ],
   "source": [
    "FinalData = newData.drop(\"Unnamed: 0\", axis = 1)\n",
    "\n",
    "FinalData.head()"
   ]
  },
  {
   "cell_type": "code",
   "execution_count": 41,
   "metadata": {},
   "outputs": [
    {
     "data": {
      "text/plain": [
       "(50000, 31)"
      ]
     },
     "execution_count": 41,
     "metadata": {},
     "output_type": "execute_result"
    }
   ],
   "source": [
    "FinalData.shape"
   ]
  },
  {
   "cell_type": "code",
   "execution_count": 42,
   "metadata": {},
   "outputs": [
    {
     "data": {
      "text/plain": [
       "array([ 1,  1,  1, ..., -1, -1, -1])"
      ]
     },
     "execution_count": 42,
     "metadata": {},
     "output_type": "execute_result"
    }
   ],
   "source": [
    "lof = LocalOutlierFactor(n_neighbors=3, algorithm='auto', metric='minkowski', p=2, metric_params=None, contamination=0.5, n_jobs=1)\n",
    "\n",
    "outlierArray = lof.fit_predict(FinalData)\n",
    "\n",
    "outlierArray"
   ]
  },
  {
   "cell_type": "markdown",
   "metadata": {},
   "source": [
    "**Here, we got an array, where row corresponding to array element 1 in our dataset is an inlier and row corresponding to array element to -1 in our dataset is an oulier**"
   ]
  },
  {
   "cell_type": "code",
   "execution_count": 43,
   "metadata": {},
   "outputs": [
    {
     "data": {
      "text/plain": [
       "50000"
      ]
     },
     "execution_count": 43,
     "metadata": {},
     "output_type": "execute_result"
    }
   ],
   "source": [
    "len(outlierArray)"
   ]
  },
  {
   "cell_type": "markdown",
   "metadata": {},
   "source": [
    "**Calculating total number of outlier and inliers**"
   ]
  },
  {
   "cell_type": "code",
   "execution_count": 44,
   "metadata": {},
   "outputs": [
    {
     "name": "stdout",
     "output_type": "stream",
     "text": [
      "Total number of outliers = 25000\n",
      "Total number of inliers = 25000\n"
     ]
    }
   ],
   "source": [
    "countOutliers = 0\n",
    "countInliers = 0\n",
    "for i in range(50000):\n",
    "    if outlierArray[i] == -1:\n",
    "        countOutliers += 1\n",
    "    else:\n",
    "        countInliers += 1\n",
    "print(\"Total number of outliers = \"+str(countOutliers))\n",
    "print(\"Total number of inliers = \"+str(countInliers))"
   ]
  },
  {
   "cell_type": "code",
   "execution_count": 45,
   "metadata": {},
   "outputs": [],
   "source": [
    "FinalData2 = FinalData.copy()"
   ]
  },
  {
   "cell_type": "code",
   "execution_count": 46,
   "metadata": {},
   "outputs": [
    {
     "data": {
      "text/plain": [
       "(50000, 31)"
      ]
     },
     "execution_count": 46,
     "metadata": {},
     "output_type": "execute_result"
    }
   ],
   "source": [
    "FinalData2.shape"
   ]
  },
  {
   "cell_type": "markdown",
   "metadata": {},
   "source": [
    "**Removing Outliers**"
   ]
  },
  {
   "cell_type": "code",
   "execution_count": 47,
   "metadata": {},
   "outputs": [
    {
     "data": {
      "text/html": [
       "<div>\n",
       "<style scoped>\n",
       "    .dataframe tbody tr th:only-of-type {\n",
       "        vertical-align: middle;\n",
       "    }\n",
       "\n",
       "    .dataframe tbody tr th {\n",
       "        vertical-align: top;\n",
       "    }\n",
       "\n",
       "    .dataframe thead th {\n",
       "        text-align: right;\n",
       "    }\n",
       "</style>\n",
       "<table border=\"1\" class=\"dataframe\">\n",
       "  <thead>\n",
       "    <tr style=\"text-align: right;\">\n",
       "      <th></th>\n",
       "      <th>Time</th>\n",
       "      <th>V1</th>\n",
       "      <th>V2</th>\n",
       "      <th>V3</th>\n",
       "      <th>V4</th>\n",
       "      <th>V5</th>\n",
       "      <th>V6</th>\n",
       "      <th>V7</th>\n",
       "      <th>V8</th>\n",
       "      <th>V9</th>\n",
       "      <th>...</th>\n",
       "      <th>V21</th>\n",
       "      <th>V22</th>\n",
       "      <th>V23</th>\n",
       "      <th>V24</th>\n",
       "      <th>V25</th>\n",
       "      <th>V26</th>\n",
       "      <th>V27</th>\n",
       "      <th>V28</th>\n",
       "      <th>Amount</th>\n",
       "      <th>Class</th>\n",
       "    </tr>\n",
       "  </thead>\n",
       "  <tbody>\n",
       "    <tr>\n",
       "      <th>0</th>\n",
       "      <td>55413.0</td>\n",
       "      <td>1.010050</td>\n",
       "      <td>-0.476833</td>\n",
       "      <td>1.826221</td>\n",
       "      <td>2.930597</td>\n",
       "      <td>-1.174913</td>\n",
       "      <td>1.425051</td>\n",
       "      <td>-1.300402</td>\n",
       "      <td>0.581938</td>\n",
       "      <td>1.446847</td>\n",
       "      <td>...</td>\n",
       "      <td>0.018695</td>\n",
       "      <td>0.357714</td>\n",
       "      <td>-0.241636</td>\n",
       "      <td>-0.439880</td>\n",
       "      <td>0.512470</td>\n",
       "      <td>0.302766</td>\n",
       "      <td>0.073908</td>\n",
       "      <td>0.036178</td>\n",
       "      <td>51.86</td>\n",
       "      <td>0</td>\n",
       "    </tr>\n",
       "    <tr>\n",
       "      <th>1</th>\n",
       "      <td>39079.0</td>\n",
       "      <td>-1.233197</td>\n",
       "      <td>-0.282540</td>\n",
       "      <td>1.665411</td>\n",
       "      <td>-1.940511</td>\n",
       "      <td>-0.224044</td>\n",
       "      <td>0.291964</td>\n",
       "      <td>-0.678048</td>\n",
       "      <td>0.484719</td>\n",
       "      <td>-1.197673</td>\n",
       "      <td>...</td>\n",
       "      <td>0.513156</td>\n",
       "      <td>1.328134</td>\n",
       "      <td>-0.465055</td>\n",
       "      <td>-0.596575</td>\n",
       "      <td>0.033947</td>\n",
       "      <td>-0.189891</td>\n",
       "      <td>-0.250734</td>\n",
       "      <td>-0.280349</td>\n",
       "      <td>24.95</td>\n",
       "      <td>0</td>\n",
       "    </tr>\n",
       "    <tr>\n",
       "      <th>2</th>\n",
       "      <td>136702.0</td>\n",
       "      <td>1.917463</td>\n",
       "      <td>0.068259</td>\n",
       "      <td>-1.753261</td>\n",
       "      <td>0.585406</td>\n",
       "      <td>0.183106</td>\n",
       "      <td>-1.477567</td>\n",
       "      <td>0.450019</td>\n",
       "      <td>-0.481973</td>\n",
       "      <td>0.405572</td>\n",
       "      <td>...</td>\n",
       "      <td>0.253490</td>\n",
       "      <td>0.800281</td>\n",
       "      <td>-0.097207</td>\n",
       "      <td>0.018212</td>\n",
       "      <td>0.264895</td>\n",
       "      <td>-0.115647</td>\n",
       "      <td>-0.008427</td>\n",
       "      <td>-0.015899</td>\n",
       "      <td>75.95</td>\n",
       "      <td>0</td>\n",
       "    </tr>\n",
       "    <tr>\n",
       "      <th>6</th>\n",
       "      <td>154725.0</td>\n",
       "      <td>1.982318</td>\n",
       "      <td>-0.535051</td>\n",
       "      <td>-0.214848</td>\n",
       "      <td>0.521755</td>\n",
       "      <td>-0.983215</td>\n",
       "      <td>-0.640933</td>\n",
       "      <td>-0.727199</td>\n",
       "      <td>0.003512</td>\n",
       "      <td>1.439345</td>\n",
       "      <td>...</td>\n",
       "      <td>0.149974</td>\n",
       "      <td>0.598656</td>\n",
       "      <td>0.178110</td>\n",
       "      <td>0.073322</td>\n",
       "      <td>-0.322433</td>\n",
       "      <td>0.569570</td>\n",
       "      <td>-0.026922</td>\n",
       "      <td>-0.048724</td>\n",
       "      <td>11.50</td>\n",
       "      <td>0</td>\n",
       "    </tr>\n",
       "    <tr>\n",
       "      <th>7</th>\n",
       "      <td>32724.0</td>\n",
       "      <td>-0.455484</td>\n",
       "      <td>0.670802</td>\n",
       "      <td>1.465590</td>\n",
       "      <td>-1.228577</td>\n",
       "      <td>-0.004430</td>\n",
       "      <td>-0.935596</td>\n",
       "      <td>0.801324</td>\n",
       "      <td>-0.214961</td>\n",
       "      <td>0.259080</td>\n",
       "      <td>...</td>\n",
       "      <td>-0.066009</td>\n",
       "      <td>-0.013992</td>\n",
       "      <td>-0.025550</td>\n",
       "      <td>0.418110</td>\n",
       "      <td>-0.392545</td>\n",
       "      <td>0.737224</td>\n",
       "      <td>-0.103165</td>\n",
       "      <td>-0.136999</td>\n",
       "      <td>3.84</td>\n",
       "      <td>0</td>\n",
       "    </tr>\n",
       "  </tbody>\n",
       "</table>\n",
       "<p>5 rows × 31 columns</p>\n",
       "</div>"
      ],
      "text/plain": [
       "       Time        V1        V2        V3        V4        V5        V6  \\\n",
       "0   55413.0  1.010050 -0.476833  1.826221  2.930597 -1.174913  1.425051   \n",
       "1   39079.0 -1.233197 -0.282540  1.665411 -1.940511 -0.224044  0.291964   \n",
       "2  136702.0  1.917463  0.068259 -1.753261  0.585406  0.183106 -1.477567   \n",
       "6  154725.0  1.982318 -0.535051 -0.214848  0.521755 -0.983215 -0.640933   \n",
       "7   32724.0 -0.455484  0.670802  1.465590 -1.228577 -0.004430 -0.935596   \n",
       "\n",
       "         V7        V8        V9  ...         V21       V22       V23  \\\n",
       "0 -1.300402  0.581938  1.446847  ...    0.018695  0.357714 -0.241636   \n",
       "1 -0.678048  0.484719 -1.197673  ...    0.513156  1.328134 -0.465055   \n",
       "2  0.450019 -0.481973  0.405572  ...    0.253490  0.800281 -0.097207   \n",
       "6 -0.727199  0.003512  1.439345  ...    0.149974  0.598656  0.178110   \n",
       "7  0.801324 -0.214961  0.259080  ...   -0.066009 -0.013992 -0.025550   \n",
       "\n",
       "        V24       V25       V26       V27       V28  Amount  Class  \n",
       "0 -0.439880  0.512470  0.302766  0.073908  0.036178   51.86      0  \n",
       "1 -0.596575  0.033947 -0.189891 -0.250734 -0.280349   24.95      0  \n",
       "2  0.018212  0.264895 -0.115647 -0.008427 -0.015899   75.95      0  \n",
       "6  0.073322 -0.322433  0.569570 -0.026922 -0.048724   11.50      0  \n",
       "7  0.418110 -0.392545  0.737224 -0.103165 -0.136999    3.84      0  \n",
       "\n",
       "[5 rows x 31 columns]"
      ]
     },
     "execution_count": 47,
     "metadata": {},
     "output_type": "execute_result"
    }
   ],
   "source": [
    "for i in range(50000):\n",
    "    if outlierArray[i] == -1:\n",
    "        FinalData.drop(i, inplace = True)\n",
    "FinalData.head()"
   ]
  },
  {
   "cell_type": "code",
   "execution_count": 48,
   "metadata": {},
   "outputs": [
    {
     "data": {
      "text/plain": [
       "(50000, 31)"
      ]
     },
     "execution_count": 48,
     "metadata": {},
     "output_type": "execute_result"
    }
   ],
   "source": [
    "FinalData2.shape"
   ]
  },
  {
   "cell_type": "code",
   "execution_count": 49,
   "metadata": {},
   "outputs": [
    {
     "data": {
      "text/plain": [
       "(25000, 31)"
      ]
     },
     "execution_count": 49,
     "metadata": {},
     "output_type": "execute_result"
    }
   ],
   "source": [
    "FinalData.shape"
   ]
  },
  {
   "cell_type": "code",
   "execution_count": 50,
   "metadata": {},
   "outputs": [
    {
     "data": {
      "image/png": "[encoded data removed]",
      "text/plain": [
       "<Figure size 1152x432 with 2 Axes>"
      ]
     },
     "metadata": {},
     "output_type": "display_data"
    }
   ],
   "source": [
    "fig = plt.figure(figsize = (16,6))\n",
    "\n",
    "plt.subplot(1, 2, 1)\n",
    "plt.title(\"Before removing outliers for column V1\")\n",
    "ax = sns.boxplot(x=\"Class\", y = \"V1\", data= FinalData2, hue = \"Class\")\n",
    "\n",
    "plt.subplot(1, 2, 2)\n",
    "plt.title(\"After removing outliers for column V1\")\n",
    "ax = sns.boxplot(x=\"Class\", y = \"V1\", data= FinalData, hue = \"Class\")"
   ]
  },
  {
   "cell_type": "code",
   "execution_count": 51,
   "metadata": {},
   "outputs": [
    {
     "data": {
      "image/png": "[encoded data removed]",
      "text/plain": [
       "<Figure size 1152x432 with 2 Axes>"
      ]
     },
     "metadata": {},
     "output_type": "display_data"
    }
   ],
   "source": [
    "fig = plt.figure(figsize = (16,6))\n",
    "\n",
    "plt.subplot(1, 2, 1)\n",
    "plt.title(\"Before removing outliers for column V2\")\n",
    "ax = sns.boxplot(x=\"Class\", y = \"V2\", data= FinalData2, hue = \"Class\")\n",
    "\n",
    "plt.subplot(1, 2, 2)\n",
    "plt.title(\"After removing outliers for column V2\")\n",
    "ax = sns.boxplot(x=\"Class\", y = \"V2\", data= FinalData, hue = \"Class\")"
   ]
  },
  {
   "cell_type": "code",
   "execution_count": 52,
   "metadata": {},
   "outputs": [
    {
     "data": {
      "image/png": "[encoded data removed]",
      "text/plain": [
       "<Figure size 1152x432 with 2 Axes>"
      ]
     },
     "metadata": {},
     "output_type": "display_data"
    }
   ],
   "source": [
    "fig = plt.figure(figsize = (16,6))\n",
    "\n",
    "plt.subplot(1, 2, 1)\n",
    "plt.title(\"Before removing outliers for column V3\")\n",
    "ax = sns.boxplot(x=\"Class\", y = \"V3\", data= FinalData2, hue = \"Class\")\n",
    "\n",
    "plt.subplot(1, 2, 2)\n",
    "plt.title(\"After removing outliers for column V3\")\n",
    "ax = sns.boxplot(x=\"Class\", y = \"V3\", data= FinalData, hue = \"Class\")"
   ]
  },
  {
   "cell_type": "code",
   "execution_count": 53,
   "metadata": {},
   "outputs": [
    {
     "data": {
      "image/png": "[encoded data removed]",
      "text/plain": [
       "<Figure size 1152x432 with 2 Axes>"
      ]
     },
     "metadata": {},
     "output_type": "display_data"
    }
   ],
   "source": [
    "fig = plt.figure(figsize = (16,6))\n",
    "\n",
    "plt.subplot(1, 2, 1)\n",
    "plt.title(\"Before removing outliers for column V4\")\n",
    "ax = sns.boxplot(x=\"Class\", y = \"V4\", data= FinalData2, hue = \"Class\")\n",
    "\n",
    "plt.subplot(1, 2, 2)\n",
    "plt.title(\"After removing outliers for column V4\")\n",
    "ax = sns.boxplot(x=\"Class\", y = \"V4\", data= FinalData, hue = \"Class\")"
   ]
  },
  {
   "cell_type": "code",
   "execution_count": 54,
   "metadata": {},
   "outputs": [
    {
     "data": {
      "image/png": "[encoded data removed]",
      "text/plain": [
       "<Figure size 1152x432 with 2 Axes>"
      ]
     },
     "metadata": {},
     "output_type": "display_data"
    }
   ],
   "source": [
    "fig = plt.figure(figsize = (16,6))\n",
    "\n",
    "plt.subplot(1, 2, 1)\n",
    "plt.title(\"Before removing outliers for column V5\")\n",
    "ax = sns.boxplot(x=\"Class\", y = \"V5\", data= FinalData2, hue = \"Class\")\n",
    "\n",
    "plt.subplot(1, 2, 2)\n",
    "plt.title(\"After removing outliers for column V5\")\n",
    "ax = sns.boxplot(x=\"Class\", y = \"V5\", data= FinalData, hue = \"Class\")"
   ]
  },
  {
   "cell_type": "markdown",
   "metadata": {},
   "source": [
    "**It can easily be observed in all of the above boxplots corresponding to columns V1, V2, V3, V4, V5, that most of the outliers for points belongs to class 1 has been removed. Furthermore, many of the outliers for points belong to class 0 has also been removed. For example for class 0 in plot 1 for column V1 all of the outliers less than -35 have been removed. Similarly, for class 0 in plot 3 for column V3 all the outliers less than -18 have been removed. Similarly, for class 0 in plot 5 for column V5 all of the outliers greater than 15 have been removed.**"
   ]
  },
  {
   "cell_type": "markdown",
   "metadata": {},
   "source": [
    "### Detecting outliers for 'k' value 5\n",
    "\n",
    "#### We have assumed that 50% of total points in our data set are outliers."
   ]
  },
  {
   "cell_type": "code",
   "execution_count": 55,
   "metadata": {},
   "outputs": [
    {
     "data": {
      "text/html": [
       "<div>\n",
       "<style scoped>\n",
       "    .dataframe tbody tr th:only-of-type {\n",
       "        vertical-align: middle;\n",
       "    }\n",
       "\n",
       "    .dataframe tbody tr th {\n",
       "        vertical-align: top;\n",
       "    }\n",
       "\n",
       "    .dataframe thead th {\n",
       "        text-align: right;\n",
       "    }\n",
       "</style>\n",
       "<table border=\"1\" class=\"dataframe\">\n",
       "  <thead>\n",
       "    <tr style=\"text-align: right;\">\n",
       "      <th></th>\n",
       "      <th>Unnamed: 0</th>\n",
       "      <th>Time</th>\n",
       "      <th>V1</th>\n",
       "      <th>V2</th>\n",
       "      <th>V3</th>\n",
       "      <th>V4</th>\n",
       "      <th>V5</th>\n",
       "      <th>V6</th>\n",
       "      <th>V7</th>\n",
       "      <th>V8</th>\n",
       "      <th>...</th>\n",
       "      <th>V21</th>\n",
       "      <th>V22</th>\n",
       "      <th>V23</th>\n",
       "      <th>V24</th>\n",
       "      <th>V25</th>\n",
       "      <th>V26</th>\n",
       "      <th>V27</th>\n",
       "      <th>V28</th>\n",
       "      <th>Amount</th>\n",
       "      <th>Class</th>\n",
       "    </tr>\n",
       "  </thead>\n",
       "  <tbody>\n",
       "    <tr>\n",
       "      <th>0</th>\n",
       "      <td>74072</td>\n",
       "      <td>55413.0</td>\n",
       "      <td>1.010050</td>\n",
       "      <td>-0.476833</td>\n",
       "      <td>1.826221</td>\n",
       "      <td>2.930597</td>\n",
       "      <td>-1.174913</td>\n",
       "      <td>1.425051</td>\n",
       "      <td>-1.300402</td>\n",
       "      <td>0.581938</td>\n",
       "      <td>...</td>\n",
       "      <td>0.018695</td>\n",
       "      <td>0.357714</td>\n",
       "      <td>-0.241636</td>\n",
       "      <td>-0.439880</td>\n",
       "      <td>0.512470</td>\n",
       "      <td>0.302766</td>\n",
       "      <td>0.073908</td>\n",
       "      <td>0.036178</td>\n",
       "      <td>51.86</td>\n",
       "      <td>0</td>\n",
       "    </tr>\n",
       "    <tr>\n",
       "      <th>1</th>\n",
       "      <td>37724</td>\n",
       "      <td>39079.0</td>\n",
       "      <td>-1.233197</td>\n",
       "      <td>-0.282540</td>\n",
       "      <td>1.665411</td>\n",
       "      <td>-1.940511</td>\n",
       "      <td>-0.224044</td>\n",
       "      <td>0.291964</td>\n",
       "      <td>-0.678048</td>\n",
       "      <td>0.484719</td>\n",
       "      <td>...</td>\n",
       "      <td>0.513156</td>\n",
       "      <td>1.328134</td>\n",
       "      <td>-0.465055</td>\n",
       "      <td>-0.596575</td>\n",
       "      <td>0.033947</td>\n",
       "      <td>-0.189891</td>\n",
       "      <td>-0.250734</td>\n",
       "      <td>-0.280349</td>\n",
       "      <td>24.95</td>\n",
       "      <td>0</td>\n",
       "    </tr>\n",
       "    <tr>\n",
       "      <th>2</th>\n",
       "      <td>207494</td>\n",
       "      <td>136702.0</td>\n",
       "      <td>1.917463</td>\n",
       "      <td>0.068259</td>\n",
       "      <td>-1.753261</td>\n",
       "      <td>0.585406</td>\n",
       "      <td>0.183106</td>\n",
       "      <td>-1.477567</td>\n",
       "      <td>0.450019</td>\n",
       "      <td>-0.481973</td>\n",
       "      <td>...</td>\n",
       "      <td>0.253490</td>\n",
       "      <td>0.800281</td>\n",
       "      <td>-0.097207</td>\n",
       "      <td>0.018212</td>\n",
       "      <td>0.264895</td>\n",
       "      <td>-0.115647</td>\n",
       "      <td>-0.008427</td>\n",
       "      <td>-0.015899</td>\n",
       "      <td>75.95</td>\n",
       "      <td>0</td>\n",
       "    </tr>\n",
       "    <tr>\n",
       "      <th>3</th>\n",
       "      <td>180930</td>\n",
       "      <td>124753.0</td>\n",
       "      <td>-1.215556</td>\n",
       "      <td>1.259983</td>\n",
       "      <td>3.236210</td>\n",
       "      <td>4.503750</td>\n",
       "      <td>-0.472941</td>\n",
       "      <td>2.304407</td>\n",
       "      <td>-0.756308</td>\n",
       "      <td>0.550394</td>\n",
       "      <td>...</td>\n",
       "      <td>-0.145317</td>\n",
       "      <td>0.581410</td>\n",
       "      <td>-0.479921</td>\n",
       "      <td>-0.623659</td>\n",
       "      <td>0.380522</td>\n",
       "      <td>0.702575</td>\n",
       "      <td>0.584164</td>\n",
       "      <td>0.175683</td>\n",
       "      <td>5.76</td>\n",
       "      <td>0</td>\n",
       "    </tr>\n",
       "    <tr>\n",
       "      <th>4</th>\n",
       "      <td>271725</td>\n",
       "      <td>164713.0</td>\n",
       "      <td>-1.424896</td>\n",
       "      <td>1.073129</td>\n",
       "      <td>0.105897</td>\n",
       "      <td>-0.941510</td>\n",
       "      <td>0.437835</td>\n",
       "      <td>0.584503</td>\n",
       "      <td>0.103029</td>\n",
       "      <td>1.050873</td>\n",
       "      <td>...</td>\n",
       "      <td>0.094488</td>\n",
       "      <td>0.238311</td>\n",
       "      <td>-0.060676</td>\n",
       "      <td>-0.998637</td>\n",
       "      <td>-0.103431</td>\n",
       "      <td>-0.002100</td>\n",
       "      <td>-0.226490</td>\n",
       "      <td>-0.049194</td>\n",
       "      <td>14.99</td>\n",
       "      <td>0</td>\n",
       "    </tr>\n",
       "  </tbody>\n",
       "</table>\n",
       "<p>5 rows × 32 columns</p>\n",
       "</div>"
      ],
      "text/plain": [
       "   Unnamed: 0      Time        V1        V2        V3        V4        V5  \\\n",
       "0       74072   55413.0  1.010050 -0.476833  1.826221  2.930597 -1.174913   \n",
       "1       37724   39079.0 -1.233197 -0.282540  1.665411 -1.940511 -0.224044   \n",
       "2      207494  136702.0  1.917463  0.068259 -1.753261  0.585406  0.183106   \n",
       "3      180930  124753.0 -1.215556  1.259983  3.236210  4.503750 -0.472941   \n",
       "4      271725  164713.0 -1.424896  1.073129  0.105897 -0.941510  0.437835   \n",
       "\n",
       "         V6        V7        V8  ...         V21       V22       V23  \\\n",
       "0  1.425051 -1.300402  0.581938  ...    0.018695  0.357714 -0.241636   \n",
       "1  0.291964 -0.678048  0.484719  ...    0.513156  1.328134 -0.465055   \n",
       "2 -1.477567  0.450019 -0.481973  ...    0.253490  0.800281 -0.097207   \n",
       "3  2.304407 -0.756308  0.550394  ...   -0.145317  0.581410 -0.479921   \n",
       "4  0.584503  0.103029  1.050873  ...    0.094488  0.238311 -0.060676   \n",
       "\n",
       "        V24       V25       V26       V27       V28  Amount  Class  \n",
       "0 -0.439880  0.512470  0.302766  0.073908  0.036178   51.86      0  \n",
       "1 -0.596575  0.033947 -0.189891 -0.250734 -0.280349   24.95      0  \n",
       "2  0.018212  0.264895 -0.115647 -0.008427 -0.015899   75.95      0  \n",
       "3 -0.623659  0.380522  0.702575  0.584164  0.175683    5.76      0  \n",
       "4 -0.998637 -0.103431 -0.002100 -0.226490 -0.049194   14.99      0  \n",
       "\n",
       "[5 rows x 32 columns]"
      ]
     },
     "execution_count": 55,
     "metadata": {},
     "output_type": "execute_result"
    }
   ],
   "source": [
    "newData = pd.read_csv(\"NewCreditCard.csv\")\n",
    "\n",
    "newData.head()"
   ]
  },
  {
   "cell_type": "code",
   "execution_count": 56,
   "metadata": {},
   "outputs": [
    {
     "data": {
      "text/html": [
       "<div>\n",
       "<style scoped>\n",
       "    .dataframe tbody tr th:only-of-type {\n",
       "        vertical-align: middle;\n",
       "    }\n",
       "\n",
       "    .dataframe tbody tr th {\n",
       "        vertical-align: top;\n",
       "    }\n",
       "\n",
       "    .dataframe thead th {\n",
       "        text-align: right;\n",
       "    }\n",
       "</style>\n",
       "<table border=\"1\" class=\"dataframe\">\n",
       "  <thead>\n",
       "    <tr style=\"text-align: right;\">\n",
       "      <th></th>\n",
       "      <th>Time</th>\n",
       "      <th>V1</th>\n",
       "      <th>V2</th>\n",
       "      <th>V3</th>\n",
       "      <th>V4</th>\n",
       "      <th>V5</th>\n",
       "      <th>V6</th>\n",
       "      <th>V7</th>\n",
       "      <th>V8</th>\n",
       "      <th>V9</th>\n",
       "      <th>...</th>\n",
       "      <th>V21</th>\n",
       "      <th>V22</th>\n",
       "      <th>V23</th>\n",
       "      <th>V24</th>\n",
       "      <th>V25</th>\n",
       "      <th>V26</th>\n",
       "      <th>V27</th>\n",
       "      <th>V28</th>\n",
       "      <th>Amount</th>\n",
       "      <th>Class</th>\n",
       "    </tr>\n",
       "  </thead>\n",
       "  <tbody>\n",
       "    <tr>\n",
       "      <th>0</th>\n",
       "      <td>55413.0</td>\n",
       "      <td>1.010050</td>\n",
       "      <td>-0.476833</td>\n",
       "      <td>1.826221</td>\n",
       "      <td>2.930597</td>\n",
       "      <td>-1.174913</td>\n",
       "      <td>1.425051</td>\n",
       "      <td>-1.300402</td>\n",
       "      <td>0.581938</td>\n",
       "      <td>1.446847</td>\n",
       "      <td>...</td>\n",
       "      <td>0.018695</td>\n",
       "      <td>0.357714</td>\n",
       "      <td>-0.241636</td>\n",
       "      <td>-0.439880</td>\n",
       "      <td>0.512470</td>\n",
       "      <td>0.302766</td>\n",
       "      <td>0.073908</td>\n",
       "      <td>0.036178</td>\n",
       "      <td>51.86</td>\n",
       "      <td>0</td>\n",
       "    </tr>\n",
       "    <tr>\n",
       "      <th>1</th>\n",
       "      <td>39079.0</td>\n",
       "      <td>-1.233197</td>\n",
       "      <td>-0.282540</td>\n",
       "      <td>1.665411</td>\n",
       "      <td>-1.940511</td>\n",
       "      <td>-0.224044</td>\n",
       "      <td>0.291964</td>\n",
       "      <td>-0.678048</td>\n",
       "      <td>0.484719</td>\n",
       "      <td>-1.197673</td>\n",
       "      <td>...</td>\n",
       "      <td>0.513156</td>\n",
       "      <td>1.328134</td>\n",
       "      <td>-0.465055</td>\n",
       "      <td>-0.596575</td>\n",
       "      <td>0.033947</td>\n",
       "      <td>-0.189891</td>\n",
       "      <td>-0.250734</td>\n",
       "      <td>-0.280349</td>\n",
       "      <td>24.95</td>\n",
       "      <td>0</td>\n",
       "    </tr>\n",
       "    <tr>\n",
       "      <th>2</th>\n",
       "      <td>136702.0</td>\n",
       "      <td>1.917463</td>\n",
       "      <td>0.068259</td>\n",
       "      <td>-1.753261</td>\n",
       "      <td>0.585406</td>\n",
       "      <td>0.183106</td>\n",
       "      <td>-1.477567</td>\n",
       "      <td>0.450019</td>\n",
       "      <td>-0.481973</td>\n",
       "      <td>0.405572</td>\n",
       "      <td>...</td>\n",
       "      <td>0.253490</td>\n",
       "      <td>0.800281</td>\n",
       "      <td>-0.097207</td>\n",
       "      <td>0.018212</td>\n",
       "      <td>0.264895</td>\n",
       "      <td>-0.115647</td>\n",
       "      <td>-0.008427</td>\n",
       "      <td>-0.015899</td>\n",
       "      <td>75.95</td>\n",
       "      <td>0</td>\n",
       "    </tr>\n",
       "    <tr>\n",
       "      <th>3</th>\n",
       "      <td>124753.0</td>\n",
       "      <td>-1.215556</td>\n",
       "      <td>1.259983</td>\n",
       "      <td>3.236210</td>\n",
       "      <td>4.503750</td>\n",
       "      <td>-0.472941</td>\n",
       "      <td>2.304407</td>\n",
       "      <td>-0.756308</td>\n",
       "      <td>0.550394</td>\n",
       "      <td>0.525018</td>\n",
       "      <td>...</td>\n",
       "      <td>-0.145317</td>\n",
       "      <td>0.581410</td>\n",
       "      <td>-0.479921</td>\n",
       "      <td>-0.623659</td>\n",
       "      <td>0.380522</td>\n",
       "      <td>0.702575</td>\n",
       "      <td>0.584164</td>\n",
       "      <td>0.175683</td>\n",
       "      <td>5.76</td>\n",
       "      <td>0</td>\n",
       "    </tr>\n",
       "    <tr>\n",
       "      <th>4</th>\n",
       "      <td>164713.0</td>\n",
       "      <td>-1.424896</td>\n",
       "      <td>1.073129</td>\n",
       "      <td>0.105897</td>\n",
       "      <td>-0.941510</td>\n",
       "      <td>0.437835</td>\n",
       "      <td>0.584503</td>\n",
       "      <td>0.103029</td>\n",
       "      <td>1.050873</td>\n",
       "      <td>-0.247711</td>\n",
       "      <td>...</td>\n",
       "      <td>0.094488</td>\n",
       "      <td>0.238311</td>\n",
       "      <td>-0.060676</td>\n",
       "      <td>-0.998637</td>\n",
       "      <td>-0.103431</td>\n",
       "      <td>-0.002100</td>\n",
       "      <td>-0.226490</td>\n",
       "      <td>-0.049194</td>\n",
       "      <td>14.99</td>\n",
       "      <td>0</td>\n",
       "    </tr>\n",
       "  </tbody>\n",
       "</table>\n",
       "<p>5 rows × 31 columns</p>\n",
       "</div>"
      ],
      "text/plain": [
       "       Time        V1        V2        V3        V4        V5        V6  \\\n",
       "0   55413.0  1.010050 -0.476833  1.826221  2.930597 -1.174913  1.425051   \n",
       "1   39079.0 -1.233197 -0.282540  1.665411 -1.940511 -0.224044  0.291964   \n",
       "2  136702.0  1.917463  0.068259 -1.753261  0.585406  0.183106 -1.477567   \n",
       "3  124753.0 -1.215556  1.259983  3.236210  4.503750 -0.472941  2.304407   \n",
       "4  164713.0 -1.424896  1.073129  0.105897 -0.941510  0.437835  0.584503   \n",
       "\n",
       "         V7        V8        V9  ...         V21       V22       V23  \\\n",
       "0 -1.300402  0.581938  1.446847  ...    0.018695  0.357714 -0.241636   \n",
       "1 -0.678048  0.484719 -1.197673  ...    0.513156  1.328134 -0.465055   \n",
       "2  0.450019 -0.481973  0.405572  ...    0.253490  0.800281 -0.097207   \n",
       "3 -0.756308  0.550394  0.525018  ...   -0.145317  0.581410 -0.479921   \n",
       "4  0.103029  1.050873 -0.247711  ...    0.094488  0.238311 -0.060676   \n",
       "\n",
       "        V24       V25       V26       V27       V28  Amount  Class  \n",
       "0 -0.439880  0.512470  0.302766  0.073908  0.036178   51.86      0  \n",
       "1 -0.596575  0.033947 -0.189891 -0.250734 -0.280349   24.95      0  \n",
       "2  0.018212  0.264895 -0.115647 -0.008427 -0.015899   75.95      0  \n",
       "3 -0.623659  0.380522  0.702575  0.584164  0.175683    5.76      0  \n",
       "4 -0.998637 -0.103431 -0.002100 -0.226490 -0.049194   14.99      0  \n",
       "\n",
       "[5 rows x 31 columns]"
      ]
     },
     "execution_count": 56,
     "metadata": {},
     "output_type": "execute_result"
    }
   ],
   "source": [
    "FinalData = newData.drop(\"Unnamed: 0\", axis = 1)\n",
    "\n",
    "FinalData.head()"
   ]
  },
  {
   "cell_type": "code",
   "execution_count": 57,
   "metadata": {},
   "outputs": [
    {
     "data": {
      "text/plain": [
       "(50000, 31)"
      ]
     },
     "execution_count": 57,
     "metadata": {},
     "output_type": "execute_result"
    }
   ],
   "source": [
    "FinalData.shape"
   ]
  },
  {
   "cell_type": "code",
   "execution_count": 58,
   "metadata": {},
   "outputs": [
    {
     "data": {
      "text/plain": [
       "array([-1,  1,  1, ..., -1, -1,  1])"
      ]
     },
     "execution_count": 58,
     "metadata": {},
     "output_type": "execute_result"
    }
   ],
   "source": [
    "lof = LocalOutlierFactor(n_neighbors=5, algorithm='auto', metric='minkowski', p=2, metric_params=None, contamination=0.5, n_jobs=1)\n",
    "\n",
    "outlierArray = lof.fit_predict(FinalData)\n",
    "\n",
    "outlierArray"
   ]
  },
  {
   "cell_type": "markdown",
   "metadata": {},
   "source": [
    "**Here, we got an array, where row corresponding to array element 1 in our dataset is an inlier and row corresponding to array element to -1 in our dataset is an oulier**"
   ]
  },
  {
   "cell_type": "code",
   "execution_count": 59,
   "metadata": {},
   "outputs": [
    {
     "data": {
      "text/plain": [
       "50000"
      ]
     },
     "execution_count": 59,
     "metadata": {},
     "output_type": "execute_result"
    }
   ],
   "source": [
    "len(outlierArray)"
   ]
  },
  {
   "cell_type": "markdown",
   "metadata": {},
   "source": [
    "**Calculating total number of outlier and inliers**"
   ]
  },
  {
   "cell_type": "code",
   "execution_count": 60,
   "metadata": {},
   "outputs": [
    {
     "name": "stdout",
     "output_type": "stream",
     "text": [
      "Total number of outliers = 25000\n",
      "Total number of inliers = 25000\n"
     ]
    }
   ],
   "source": [
    "countOutliers = 0\n",
    "countInliers = 0\n",
    "for i in range(50000):\n",
    "    if outlierArray[i] == -1:\n",
    "        countOutliers += 1\n",
    "    else:\n",
    "        countInliers += 1\n",
    "print(\"Total number of outliers = \"+str(countOutliers))\n",
    "print(\"Total number of inliers = \"+str(countInliers))"
   ]
  },
  {
   "cell_type": "code",
   "execution_count": 61,
   "metadata": {},
   "outputs": [],
   "source": [
    "FinalData2 = FinalData.copy()"
   ]
  },
  {
   "cell_type": "code",
   "execution_count": 62,
   "metadata": {},
   "outputs": [
    {
     "data": {
      "text/plain": [
       "(50000, 31)"
      ]
     },
     "execution_count": 62,
     "metadata": {},
     "output_type": "execute_result"
    }
   ],
   "source": [
    "FinalData2.shape"
   ]
  },
  {
   "cell_type": "markdown",
   "metadata": {},
   "source": [
    "**Removing Outliers**"
   ]
  },
  {
   "cell_type": "code",
   "execution_count": 63,
   "metadata": {},
   "outputs": [
    {
     "data": {
      "text/html": [
       "<div>\n",
       "<style scoped>\n",
       "    .dataframe tbody tr th:only-of-type {\n",
       "        vertical-align: middle;\n",
       "    }\n",
       "\n",
       "    .dataframe tbody tr th {\n",
       "        vertical-align: top;\n",
       "    }\n",
       "\n",
       "    .dataframe thead th {\n",
       "        text-align: right;\n",
       "    }\n",
       "</style>\n",
       "<table border=\"1\" class=\"dataframe\">\n",
       "  <thead>\n",
       "    <tr style=\"text-align: right;\">\n",
       "      <th></th>\n",
       "      <th>Time</th>\n",
       "      <th>V1</th>\n",
       "      <th>V2</th>\n",
       "      <th>V3</th>\n",
       "      <th>V4</th>\n",
       "      <th>V5</th>\n",
       "      <th>V6</th>\n",
       "      <th>V7</th>\n",
       "      <th>V8</th>\n",
       "      <th>V9</th>\n",
       "      <th>...</th>\n",
       "      <th>V21</th>\n",
       "      <th>V22</th>\n",
       "      <th>V23</th>\n",
       "      <th>V24</th>\n",
       "      <th>V25</th>\n",
       "      <th>V26</th>\n",
       "      <th>V27</th>\n",
       "      <th>V28</th>\n",
       "      <th>Amount</th>\n",
       "      <th>Class</th>\n",
       "    </tr>\n",
       "  </thead>\n",
       "  <tbody>\n",
       "    <tr>\n",
       "      <th>1</th>\n",
       "      <td>39079.0</td>\n",
       "      <td>-1.233197</td>\n",
       "      <td>-0.282540</td>\n",
       "      <td>1.665411</td>\n",
       "      <td>-1.940511</td>\n",
       "      <td>-0.224044</td>\n",
       "      <td>0.291964</td>\n",
       "      <td>-0.678048</td>\n",
       "      <td>0.484719</td>\n",
       "      <td>-1.197673</td>\n",
       "      <td>...</td>\n",
       "      <td>0.513156</td>\n",
       "      <td>1.328134</td>\n",
       "      <td>-0.465055</td>\n",
       "      <td>-0.596575</td>\n",
       "      <td>0.033947</td>\n",
       "      <td>-0.189891</td>\n",
       "      <td>-0.250734</td>\n",
       "      <td>-0.280349</td>\n",
       "      <td>24.95</td>\n",
       "      <td>0</td>\n",
       "    </tr>\n",
       "    <tr>\n",
       "      <th>2</th>\n",
       "      <td>136702.0</td>\n",
       "      <td>1.917463</td>\n",
       "      <td>0.068259</td>\n",
       "      <td>-1.753261</td>\n",
       "      <td>0.585406</td>\n",
       "      <td>0.183106</td>\n",
       "      <td>-1.477567</td>\n",
       "      <td>0.450019</td>\n",
       "      <td>-0.481973</td>\n",
       "      <td>0.405572</td>\n",
       "      <td>...</td>\n",
       "      <td>0.253490</td>\n",
       "      <td>0.800281</td>\n",
       "      <td>-0.097207</td>\n",
       "      <td>0.018212</td>\n",
       "      <td>0.264895</td>\n",
       "      <td>-0.115647</td>\n",
       "      <td>-0.008427</td>\n",
       "      <td>-0.015899</td>\n",
       "      <td>75.95</td>\n",
       "      <td>0</td>\n",
       "    </tr>\n",
       "    <tr>\n",
       "      <th>5</th>\n",
       "      <td>145706.0</td>\n",
       "      <td>-0.011162</td>\n",
       "      <td>0.750724</td>\n",
       "      <td>0.337352</td>\n",
       "      <td>-0.669074</td>\n",
       "      <td>0.354770</td>\n",
       "      <td>-0.880356</td>\n",
       "      <td>0.847686</td>\n",
       "      <td>-0.018653</td>\n",
       "      <td>-0.184605</td>\n",
       "      <td>...</td>\n",
       "      <td>-0.211756</td>\n",
       "      <td>-0.509787</td>\n",
       "      <td>0.079205</td>\n",
       "      <td>0.047990</td>\n",
       "      <td>-0.559540</td>\n",
       "      <td>0.117830</td>\n",
       "      <td>0.237940</td>\n",
       "      <td>0.086553</td>\n",
       "      <td>2.68</td>\n",
       "      <td>0</td>\n",
       "    </tr>\n",
       "    <tr>\n",
       "      <th>6</th>\n",
       "      <td>154725.0</td>\n",
       "      <td>1.982318</td>\n",
       "      <td>-0.535051</td>\n",
       "      <td>-0.214848</td>\n",
       "      <td>0.521755</td>\n",
       "      <td>-0.983215</td>\n",
       "      <td>-0.640933</td>\n",
       "      <td>-0.727199</td>\n",
       "      <td>0.003512</td>\n",
       "      <td>1.439345</td>\n",
       "      <td>...</td>\n",
       "      <td>0.149974</td>\n",
       "      <td>0.598656</td>\n",
       "      <td>0.178110</td>\n",
       "      <td>0.073322</td>\n",
       "      <td>-0.322433</td>\n",
       "      <td>0.569570</td>\n",
       "      <td>-0.026922</td>\n",
       "      <td>-0.048724</td>\n",
       "      <td>11.50</td>\n",
       "      <td>0</td>\n",
       "    </tr>\n",
       "    <tr>\n",
       "      <th>7</th>\n",
       "      <td>32724.0</td>\n",
       "      <td>-0.455484</td>\n",
       "      <td>0.670802</td>\n",
       "      <td>1.465590</td>\n",
       "      <td>-1.228577</td>\n",
       "      <td>-0.004430</td>\n",
       "      <td>-0.935596</td>\n",
       "      <td>0.801324</td>\n",
       "      <td>-0.214961</td>\n",
       "      <td>0.259080</td>\n",
       "      <td>...</td>\n",
       "      <td>-0.066009</td>\n",
       "      <td>-0.013992</td>\n",
       "      <td>-0.025550</td>\n",
       "      <td>0.418110</td>\n",
       "      <td>-0.392545</td>\n",
       "      <td>0.737224</td>\n",
       "      <td>-0.103165</td>\n",
       "      <td>-0.136999</td>\n",
       "      <td>3.84</td>\n",
       "      <td>0</td>\n",
       "    </tr>\n",
       "  </tbody>\n",
       "</table>\n",
       "<p>5 rows × 31 columns</p>\n",
       "</div>"
      ],
      "text/plain": [
       "       Time        V1        V2        V3        V4        V5        V6  \\\n",
       "1   39079.0 -1.233197 -0.282540  1.665411 -1.940511 -0.224044  0.291964   \n",
       "2  136702.0  1.917463  0.068259 -1.753261  0.585406  0.183106 -1.477567   \n",
       "5  145706.0 -0.011162  0.750724  0.337352 -0.669074  0.354770 -0.880356   \n",
       "6  154725.0  1.982318 -0.535051 -0.214848  0.521755 -0.983215 -0.640933   \n",
       "7   32724.0 -0.455484  0.670802  1.465590 -1.228577 -0.004430 -0.935596   \n",
       "\n",
       "         V7        V8        V9  ...         V21       V22       V23  \\\n",
       "1 -0.678048  0.484719 -1.197673  ...    0.513156  1.328134 -0.465055   \n",
       "2  0.450019 -0.481973  0.405572  ...    0.253490  0.800281 -0.097207   \n",
       "5  0.847686 -0.018653 -0.184605  ...   -0.211756 -0.509787  0.079205   \n",
       "6 -0.727199  0.003512  1.439345  ...    0.149974  0.598656  0.178110   \n",
       "7  0.801324 -0.214961  0.259080  ...   -0.066009 -0.013992 -0.025550   \n",
       "\n",
       "        V24       V25       V26       V27       V28  Amount  Class  \n",
       "1 -0.596575  0.033947 -0.189891 -0.250734 -0.280349   24.95      0  \n",
       "2  0.018212  0.264895 -0.115647 -0.008427 -0.015899   75.95      0  \n",
       "5  0.047990 -0.559540  0.117830  0.237940  0.086553    2.68      0  \n",
       "6  0.073322 -0.322433  0.569570 -0.026922 -0.048724   11.50      0  \n",
       "7  0.418110 -0.392545  0.737224 -0.103165 -0.136999    3.84      0  \n",
       "\n",
       "[5 rows x 31 columns]"
      ]
     },
     "execution_count": 63,
     "metadata": {},
     "output_type": "execute_result"
    }
   ],
   "source": [
    "for i in range(50000):\n",
    "    if outlierArray[i] == -1:\n",
    "        FinalData.drop(i, inplace = True)\n",
    "FinalData.head()"
   ]
  },
  {
   "cell_type": "code",
   "execution_count": 64,
   "metadata": {},
   "outputs": [
    {
     "data": {
      "text/plain": [
       "(50000, 31)"
      ]
     },
     "execution_count": 64,
     "metadata": {},
     "output_type": "execute_result"
    }
   ],
   "source": [
    "FinalData2.shape"
   ]
  },
  {
   "cell_type": "code",
   "execution_count": 65,
   "metadata": {},
   "outputs": [
    {
     "data": {
      "text/plain": [
       "(25000, 31)"
      ]
     },
     "execution_count": 65,
     "metadata": {},
     "output_type": "execute_result"
    }
   ],
   "source": [
    "FinalData.shape"
   ]
  },
  {
   "cell_type": "code",
   "execution_count": 66,
   "metadata": {},
   "outputs": [
    {
     "data": {
      "image/png": "[encoded data removed]",
      "text/plain": [
       "<Figure size 1152x432 with 2 Axes>"
      ]
     },
     "metadata": {},
     "output_type": "display_data"
    }
   ],
   "source": [
    "fig = plt.figure(figsize = (16,6))\n",
    "\n",
    "plt.subplot(1, 2, 1)\n",
    "plt.title(\"Before removing outliers for column V1\")\n",
    "ax = sns.boxplot(x=\"Class\", y = \"V1\", data= FinalData2, hue = \"Class\")\n",
    "\n",
    "plt.subplot(1, 2, 2)\n",
    "plt.title(\"After removing outliers for column V1\")\n",
    "ax = sns.boxplot(x=\"Class\", y = \"V1\", data= FinalData, hue = \"Class\")"
   ]
  },
  {
   "cell_type": "code",
   "execution_count": 67,
   "metadata": {},
   "outputs": [
    {
     "data": {
      "image/png": "[encoded data removed]",
      "text/plain": [
       "<Figure size 1152x432 with 2 Axes>"
      ]
     },
     "metadata": {},
     "output_type": "display_data"
    }
   ],
   "source": [
    "fig = plt.figure(figsize = (16,6))\n",
    "\n",
    "plt.subplot(1, 2, 1)\n",
    "plt.title(\"Before removing outliers for column V2\")\n",
    "ax = sns.boxplot(x=\"Class\", y = \"V2\", data= FinalData2, hue = \"Class\")\n",
    "\n",
    "plt.subplot(1, 2, 2)\n",
    "plt.title(\"After removing outliers for column V2\")\n",
    "ax = sns.boxplot(x=\"Class\", y = \"V2\", data= FinalData, hue = \"Class\")"
   ]
  },
  {
   "cell_type": "code",
   "execution_count": 68,
   "metadata": {},
   "outputs": [
    {
     "data": {
      "image/png": "[encoded data removed]",
      "text/plain": [
       "<Figure size 1152x432 with 2 Axes>"
      ]
     },
     "metadata": {},
     "output_type": "display_data"
    }
   ],
   "source": [
    "fig = plt.figure(figsize = (16,6))\n",
    "\n",
    "plt.subplot(1, 2, 1)\n",
    "plt.title(\"Before removing outliers for column V3\")\n",
    "ax = sns.boxplot(x=\"Class\", y = \"V3\", data= FinalData2, hue = \"Class\")\n",
    "\n",
    "plt.subplot(1, 2, 2)\n",
    "plt.title(\"After removing outliers for column V3\")\n",
    "ax = sns.boxplot(x=\"Class\", y = \"V3\", data= FinalData, hue = \"Class\")"
   ]
  },
  {
   "cell_type": "code",
   "execution_count": 69,
   "metadata": {},
   "outputs": [
    {
     "data": {
      "image/png": "[encoded data removed]",
      "text/plain": [
       "<Figure size 1152x432 with 2 Axes>"
      ]
     },
     "metadata": {},
     "output_type": "display_data"
    }
   ],
   "source": [
    "fig = plt.figure(figsize = (16,6))\n",
    "\n",
    "plt.subplot(1, 2, 1)\n",
    "plt.title(\"Before removing outliers for column V4\")\n",
    "ax = sns.boxplot(x=\"Class\", y = \"V4\", data= FinalData2, hue = \"Class\")\n",
    "\n",
    "plt.subplot(1, 2, 2)\n",
    "plt.title(\"After removing outliers for column V4\")\n",
    "ax = sns.boxplot(x=\"Class\", y = \"V4\", data= FinalData, hue = \"Class\")"
   ]
  },
  {
   "cell_type": "code",
   "execution_count": 70,
   "metadata": {},
   "outputs": [
    {
     "data": {
      "image/png": "[encoded data removed]",
      "text/plain": [
       "<Figure size 1152x432 with 2 Axes>"
      ]
     },
     "metadata": {},
     "output_type": "display_data"
    }
   ],
   "source": [
    "fig = plt.figure(figsize = (16,6))\n",
    "\n",
    "plt.subplot(1, 2, 1)\n",
    "plt.title(\"Before removing outliers for column V5\")\n",
    "ax = sns.boxplot(x=\"Class\", y = \"V5\", data= FinalData2, hue = \"Class\")\n",
    "\n",
    "plt.subplot(1, 2, 2)\n",
    "plt.title(\"After removing outliers for column V5\")\n",
    "ax = sns.boxplot(x=\"Class\", y = \"V5\", data= FinalData, hue = \"Class\")"
   ]
  },
  {
   "cell_type": "markdown",
   "metadata": {},
   "source": [
    "**It can easily be observed in all of the above boxplots corresponding to columns V1, V2, V3, V4, V5, that most of the outliers for points belongs to class 1 has been removed. Furthermore, many of the outliers for points belong to class 0 has also been removed. For example for class 0 in plot 1 for column V1 all of the outliers less than -17 have been removed. Similarly, for class 0 in plot 3 for column V3 all the outliers less than -15 have been removed. Similarly, for class 0 in plot 5 for column V5 all of the outliers greater than 8.5 have been removed.**"
   ]
  },
  {
   "cell_type": "markdown",
   "metadata": {},
   "source": [
    "**In conclusion, for k = 5 more outliers have been removed as compared to k = 2 or 3. Therefore, k = 5 is the best value for number of neighbors.**"
   ]
  }
 ],
 "metadata": {
  "kernelspec": {
   "display_name": "Python 3",
   "language": "python",
   "name": "python3"
  },
  "language_info": {
   "codemirror_mode": {
    "name": "ipython",
    "version": 3
   },
   "file_extension": ".py",
   "mimetype": "text/x-python",
   "name": "python",
   "nbconvert_exporter": "python",
   "pygments_lexer": "ipython3",
   "version": "3.6.5"
  }
 },
 "nbformat": 4,
 "nbformat_minor": 2
}
